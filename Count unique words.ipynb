{
 "cells": [
  {
   "cell_type": "markdown",
   "metadata": {},
   "source": [
    "Counting the number of unique words in a text file, and how often each occurs.  Find the top 20 words.\n",
    "Ignore case during comparison of letters.\n",
    "Words can contain letters, numbers, apostrophes, hyphens.  All other characters are considered word separators"
   ]
  },
  {
   "cell_type": "markdown",
   "metadata": {},
   "source": [
    "Use **Complete works of William Shakespeare** from Project Gutenberg for this exercise"
   ]
  },
  {
   "cell_type": "code",
   "execution_count": null,
   "metadata": {},
   "outputs": [],
   "source": [
    "import re\n",
    "from collections import Counter"
   ]
  },
  {
   "cell_type": "code",
   "execution_count": null,
   "metadata": {},
   "outputs": [],
   "source": [
    "def count_words(path):\n",
    "    with open(path, encoding='utf-8') as file:\n",
    "        all_words = re.findall(r\"[0-9a-zA-Z-']+\", file.read())\n",
    "        all_words = [word.upper() for word in all_words]\n",
    "        print(f\"Total words: {len(all_words)}\")\n",
    "        \n",
    "        word_counts = Counter()\n",
    "        for word in all_words:\n",
    "            word_counts[word] += 1\n",
    "            \n",
    "        print(\"Top 20 words\")\n",
    "        for word in word_counts.most_common(20):\n",
    "            print(word[0], '\\t', word[1])"
   ]
  },
  {
   "cell_type": "code",
   "execution_count": null,
   "metadata": {},
   "outputs": [],
   "source": [
    "count_words('files/shakespeare.txt')"
   ]
  }
 ],
 "metadata": {
  "kernelspec": {
   "display_name": "Python 3",
   "language": "python",
   "name": "python3"
  },
  "language_info": {
   "codemirror_mode": {
    "name": "ipython",
    "version": 3
   },
   "file_extension": ".py",
   "mimetype": "text/x-python",
   "name": "python",
   "nbconvert_exporter": "python",
   "pygments_lexer": "ipython3",
   "version": "3.7.4"
  }
 },
 "nbformat": 4,
 "nbformat_minor": 2
}
