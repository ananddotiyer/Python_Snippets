{
 "cells": [
  {
   "cell_type": "code",
   "execution_count": null,
   "metadata": {},
   "outputs": [],
   "source": [
    "vowels = 'AEIOU'\n",
    "\n",
    "def is_vowel(char):\n",
    "    if char in vowels:\n",
    "        return True\n",
    "    else:\n",
    "        return False"
   ]
  },
  {
   "cell_type": "code",
   "execution_count": null,
   "metadata": {
    "scrolled": false
   },
   "outputs": [],
   "source": [
    "word_max = ''\n",
    "\n",
    "handle = open(r\"files\\sowpods.txt\")\n",
    "\n",
    "max_length = 0\n",
    "\n",
    "for line in handle:\n",
    "    found_vowels = set()\n",
    "    count_vowels = 0\n",
    "    line = line.strip()\n",
    "    for char in line:\n",
    "        if is_vowel(char.upper()):\n",
    "            found_vowels.add(char)\n",
    "            count_vowels += 1\n",
    "\n",
    "    if len(found_vowels) == len(vowels):\n",
    "        if len(line) > max_length:\n",
    "            max_length = len(line)\n",
    "            word_max = line\n",
    "\n",
    "print(f\"Word with all vowels and has maximum length is {word_max}\")"
   ]
  },
  {
   "cell_type": "code",
   "execution_count": null,
   "metadata": {},
   "outputs": [],
   "source": [
    "with open(r\"files\\sowpods.txt\") as handle:\n",
    "    print(max([word.strip() for word in handle if set(word).issuperset(set(vowels))], key=len))"
   ]
  }
 ],
 "metadata": {
  "kernelspec": {
   "display_name": "Python 3",
   "language": "python",
   "name": "python3"
  },
  "language_info": {
   "codemirror_mode": {
    "name": "ipython",
    "version": 3
   },
   "file_extension": ".py",
   "mimetype": "text/x-python",
   "name": "python",
   "nbconvert_exporter": "python",
   "pygments_lexer": "ipython3",
   "version": "3.7.4"
  }
 },
 "nbformat": 4,
 "nbformat_minor": 2
}
