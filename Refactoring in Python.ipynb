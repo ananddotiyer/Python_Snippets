{
 "cells": [
  {
   "cell_type": "markdown",
   "metadata": {},
   "source": [
    "THis notebook is based on [this video lecture by Brett Slatkin](https://www.youtube.com/watch?v=D_6ybDcU5gc&feature=youtu.be)"
   ]
  },
  {
   "cell_type": "markdown",
   "metadata": {},
   "source": [
    "**What is Refactoring**?\n",
    "\n",
    "Repeatedly reorganizing and rewriting code until it's **obvious** to a new reader\n"
   ]
  },
  {
   "cell_type": "markdown",
   "metadata": {},
   "source": [
    "**When do you Refactor?**\n",
    "\n",
    "- In advance\n",
    "- For testing\n",
    "- \"Don't repeat yourself\"\n",
    "- Brittleness\n",
    "- Complexity"
   ]
  },
  {
   "cell_type": "markdown",
   "metadata": {},
   "source": [
    "**How do you Refactor?**\n",
    "\n",
    "- Identify Bad code\n",
    "- Improve it\n",
    "- Run tests\n",
    "- Fix and improve tests\n",
    "- Repeat"
   ]
  },
  {
   "cell_type": "markdown",
   "metadata": {},
   "source": [
    "**Pre-requisites**\n",
    "\n",
    "- Tests (Thorough and quick)\n",
    "- Source control\n",
    "- Willingness to make mistakes"
   ]
  },
  {
   "cell_type": "markdown",
   "metadata": {},
   "source": [
    "**Techniques for Refactoring**\n",
    "\n",
    "- Extract variable\n",
    "- Extract function\n",
    "\n",
    "***Here are some examples***:"
   ]
  },
  {
   "cell_type": "markdown",
   "metadata": {},
   "source": [
    "\n",
    "Some logic to determine the best time to eat certain foods."
   ]
  },
  {
   "cell_type": "code",
   "execution_count": null,
   "metadata": {},
   "outputs": [],
   "source": [
    "MONTHS = ('January', 'February', 'March', 'April', 'May', 'June',\n",
    "          'July', 'August', 'September', 'October', 'November', 'December')"
   ]
  },
  {
   "cell_type": "code",
   "execution_count": null,
   "metadata": {},
   "outputs": [],
   "source": [
    "def what_to_eat(month):\n",
    "    if (month.lower().endswith('r') or\n",
    "            month.lower().endswith('ary')):\n",
    "        print('%s is a good time to eat oysters' % month)\n",
    "    elif 8 > MONTHS.index(month) > 4:\n",
    "        print('%s is a good time to eat tomatoes' % month)\n",
    "    else:\n",
    "        print('%s is a good time to eat asparagus' % month)"
   ]
  },
  {
   "cell_type": "code",
   "execution_count": null,
   "metadata": {},
   "outputs": [],
   "source": [
    "what_to_eat('November')\n",
    "what_to_eat('July')\n",
    "what_to_eat('March')"
   ]
  },
  {
   "cell_type": "markdown",
   "metadata": {},
   "source": [
    "***One of the reasons to refactor is to improve complexity of code***"
   ]
  },
  {
   "cell_type": "code",
   "execution_count": null,
   "metadata": {},
   "outputs": [],
   "source": [
    "#Step1: using variables to refactor\n",
    "def what_to_eat(month):\n",
    "    lowered = month.lower()\n",
    "    ends_with_r = lowered.endswith('r')\n",
    "    ends_with_ary = lowered.endswith('ary')\n",
    "    index = MONTHS.index(month)\n",
    "    summer = 8 > MONTHS.index(month) > 4\n",
    "\n",
    "    if (month.lower().endswith('r') or\n",
    "            month.lower().endswith('ary')):\n",
    "        print('%s is a good time to eat oysters' % month)\n",
    "    elif 8 > MONTHS.index(month) > 4:\n",
    "        print('%s is a good time to eat tomatoes' % month)\n",
    "    else:\n",
    "        print('%s is a good time to eat asparagus' % month)"
   ]
  },
  {
   "cell_type": "code",
   "execution_count": null,
   "metadata": {},
   "outputs": [],
   "source": [
    "what_to_eat('November')\n",
    "what_to_eat('July')\n",
    "what_to_eat('March')"
   ]
  },
  {
   "cell_type": "markdown",
   "metadata": {},
   "source": [
    "***Another reason to refactor is to improve readability of code***"
   ]
  },
  {
   "cell_type": "code",
   "execution_count": null,
   "metadata": {},
   "outputs": [],
   "source": [
    "# Step2: using functions to refactor\n",
    "def what_to_eat(month):\n",
    "    def oysters_good(month):\n",
    "        return month.lower().endswith('r') or month.lower().endswith('ary')\n",
    "\n",
    "    def tomatoes_good(month):\n",
    "            return 8 > MONTHS.index(month) > 4\n",
    "\n",
    "    if oysters_good(month):\n",
    "        print('%s is a good time to eat oysters' % month)\n",
    "    elif tomatoes_good(month):\n",
    "        print('%s is a good time to eat tomatoes' % month)\n",
    "    else:\n",
    "        print('%s is a good time to eat asparagus' % month)"
   ]
  },
  {
   "cell_type": "code",
   "execution_count": null,
   "metadata": {},
   "outputs": [],
   "source": [
    "what_to_eat('November')\n",
    "what_to_eat('July')\n",
    "what_to_eat('March')"
   ]
  },
  {
   "cell_type": "markdown",
   "metadata": {},
   "source": [
    "***Let's combine functions with variables.  Seems unnecessary in the beginning but an imporant step nevertheless***"
   ]
  },
  {
   "cell_type": "code",
   "execution_count": null,
   "metadata": {},
   "outputs": [],
   "source": [
    "# Step2: using functions to refactor\n",
    "def what_to_eat(month):\n",
    "    def oysters_good(month):\n",
    "        return month.lower().endswith('r') or month.lower().endswith('ary')\n",
    "\n",
    "    def tomatoes_good(month):\n",
    "            return 8 > MONTHS.index(month) > 4\n",
    "\n",
    "    time_for_oysters = oysters_good(month)\n",
    "    time_for_tomatoes = tomatoes_good(month)\n",
    "    \n",
    "    if time_for_oysters:\n",
    "        print('%s is a good time to eat oysters' % month)\n",
    "    elif time_for_tomatoes:\n",
    "        print('%s is a good time to eat tomatoes' % month)\n",
    "    else:\n",
    "        print('%s is a good time to eat asparagus' % month)"
   ]
  },
  {
   "cell_type": "code",
   "execution_count": null,
   "metadata": {},
   "outputs": [],
   "source": [
    "what_to_eat('November')\n",
    "what_to_eat('July')\n",
    "what_to_eat('March')"
   ]
  },
  {
   "cell_type": "markdown",
   "metadata": {},
   "source": [
    "***These internal functions can be get complicated, so let's use classes instead***"
   ]
  },
  {
   "cell_type": "code",
   "execution_count": null,
   "metadata": {},
   "outputs": [],
   "source": [
    "class OystersGood:\n",
    "    def __init__(self, month):\n",
    "        month = month\n",
    "        month_lowered = month.lower()\n",
    "        self.ends_in_r = month_lowered.endswith('r')\n",
    "        self.ends_in_ary = month_lowered.endswith('ary')\n",
    "        self._result = self.ends_in_r or self.ends_in_ary\n",
    "\n",
    "    def __bool__(self):  # Equivalent to __nonzero__ in Python 2\n",
    "        return self._result\n",
    "            \n",
    "\n",
    "class TomatoesGood:\n",
    "    def __init__(self, month):\n",
    "        self.index = MONTHS.index(month)\n",
    "        self._result = 8 > self.index > 4\n",
    "    \n",
    "    def __bool__(self):  # Equivalent to __nonzero__ in Python 2\n",
    "        return self._result"
   ]
  },
  {
   "cell_type": "code",
   "execution_count": null,
   "metadata": {},
   "outputs": [],
   "source": [
    "# Step23: using above classes to refactor\n",
    "def what_to_eat(month):\n",
    "    time_for_oysters = OystersGood(month)\n",
    "    time_for_tomatoes = TomatoesGood(month)\n",
    "    \n",
    "    if time_for_oysters:\n",
    "        print('%s is a good time to eat oysters' % month)\n",
    "    elif time_for_tomatoes:\n",
    "        print('%s is a good time to eat tomatoes' % month)\n",
    "    else:\n",
    "        print('%s is a good time to eat asparagus' % month)"
   ]
  },
  {
   "cell_type": "code",
   "execution_count": null,
   "metadata": {},
   "outputs": [],
   "source": [
    "what_to_eat('November')\n",
    "what_to_eat('July')\n",
    "what_to_eat('March')"
   ]
  },
  {
   "cell_type": "markdown",
   "metadata": {},
   "source": [
    "Why is classes better than functions here?  Because of this:"
   ]
  },
  {
   "cell_type": "code",
   "execution_count": null,
   "metadata": {},
   "outputs": [],
   "source": [
    "test = OystersGood('November')\n",
    "assert test\n",
    "assert test.ends_in_r\n",
    "assert test.ends_in_ary"
   ]
  },
  {
   "cell_type": "code",
   "execution_count": null,
   "metadata": {},
   "outputs": [],
   "source": [
    "test = OystersGood('January')\n",
    "assert test\n",
    "assert test.ends_in_r\n",
    "assert test.ends_in_ary"
   ]
  }
 ],
 "metadata": {
  "kernelspec": {
   "display_name": "Python 3",
   "language": "python",
   "name": "python3"
  },
  "language_info": {
   "codemirror_mode": {
    "name": "ipython",
    "version": 3
   },
   "file_extension": ".py",
   "mimetype": "text/x-python",
   "name": "python",
   "nbconvert_exporter": "python",
   "pygments_lexer": "ipython3",
   "version": "3.7.4"
  }
 },
 "nbformat": 4,
 "nbformat_minor": 2
}
