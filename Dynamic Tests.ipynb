{
 "cells": [
  {
   "cell_type": "markdown",
   "metadata": {},
   "source": [
    "Following snippets only if you created .py files"
   ]
  },
  {
   "cell_type": "code",
   "execution_count": null,
   "metadata": {},
   "outputs": [],
   "source": [
    "# DynamicTest1.py\n",
    "# In this case, TestsContainer gets created, with 3 test methods.  \n",
    "# First test method 'foo', assertEqual 1 == 1\n",
    "# Second test method 'bar', assertEqual 1 == 2\n",
    "# Third test method 'baz', assertEqual 5 == 5\n",
    "\n",
    "import unittest\n",
    "\n",
    "class TestsContainer(unittest.TestCase):\n",
    "    longMessage = True\n",
    "\n",
    "def make_test_function(description, a, b):\n",
    "    def test(self):\n",
    "        self.assertEqual(a, b, description)\n",
    "    return test\n",
    "\n",
    "if __name__ == '__main__':\n",
    "    testsmap = {\n",
    "        'foo': [1, 1],\n",
    "        'bar': [1, 2],\n",
    "        'baz': [5, 5]}\n",
    "\n",
    "    for name, params in testsmap.items():\n",
    "        test_func = make_test_function(name, params[0], params[1])\n",
    "        setattr(TestsContainer, 'test_{0}'.format(name), test_func)\n",
    "\n",
    "    unittest.main()"
   ]
  },
  {
   "cell_type": "code",
   "execution_count": null,
   "metadata": {},
   "outputs": [],
   "source": [
    "# DynamicTests2.py\n",
    "# In this case, 3 separate TestClasses are created, each one with a test method.  \n",
    "# First test method 'foo', assertEqual 1 == 1\n",
    "# Second test method 'bar', assertEqual 1 == 2\n",
    "# Third test method 'baz', assertEqual 5 == 5\n",
    "\n",
    "import unittest\n",
    "\n",
    "class DynamicClassBase(unittest.TestCase):\n",
    "    longMessage = True\n",
    "\n",
    "def make_test_function(description, a, b):\n",
    "    def test(self):\n",
    "        self.assertEqual(a, b, description)\n",
    "    return test\n",
    "\n",
    "if __name__ == '__main__':\n",
    "    testsmap = {\n",
    "        'foo': [1, 1],\n",
    "        'bar': [1, 2],\n",
    "        'baz': [5, 5]}\n",
    "\n",
    "    for name, params in testsmap.items():\n",
    "        test_func = make_test_function(name, params[0], params[1])\n",
    "        klassname = 'Test_{0}'.format(name)\n",
    "        globals()[klassname] = type(klassname,\n",
    "                                   (DynamicClassBase,),\n",
    "                                   {'test_gen_{0}'.format(name): test_func})\n",
    "\n",
    "    unittest.main()"
   ]
  }
 ],
 "metadata": {
  "kernelspec": {
   "display_name": "Python 3",
   "language": "python",
   "name": "python3"
  },
  "language_info": {
   "codemirror_mode": {
    "name": "ipython",
    "version": 3
   },
   "file_extension": ".py",
   "mimetype": "text/x-python",
   "name": "python",
   "nbconvert_exporter": "python",
   "pygments_lexer": "ipython3",
   "version": "3.7.4"
  }
 },
 "nbformat": 4,
 "nbformat_minor": 4
}
