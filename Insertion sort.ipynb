{
 "cells": [
  {
   "cell_type": "code",
   "execution_count": 1,
   "metadata": {},
   "outputs": [],
   "source": [
    "aList = [15, 6, 13, 22, 3, 52, 2]"
   ]
  },
  {
   "cell_type": "code",
   "execution_count": 2,
   "metadata": {},
   "outputs": [],
   "source": [
    "for i in range(1,len(aList)):\n",
    "    key = aList[i]\n",
    "    j = i - 1\n",
    "    while j >= 0 and key < aList[j]:\n",
    "        aList[j+1] = aList[j]\n",
    "        j = j - 1\n",
    "    else:\n",
    "        aList[j + 1] = key"
   ]
  },
  {
   "cell_type": "code",
   "execution_count": 3,
   "metadata": {},
   "outputs": [
    {
     "name": "stdout",
     "output_type": "stream",
     "text": [
      "List after sorting: [2, 3, 6, 13, 15, 22, 52]\n"
     ]
    }
   ],
   "source": [
    "print (\"List after sorting:\", aList)"
   ]
  }
 ],
 "metadata": {
  "kernelspec": {
   "display_name": "Python 3",
   "language": "python",
   "name": "python3"
  },
  "language_info": {
   "codemirror_mode": {
    "name": "ipython",
    "version": 3
   },
   "file_extension": ".py",
   "mimetype": "text/x-python",
   "name": "python",
   "nbconvert_exporter": "python",
   "pygments_lexer": "ipython3",
   "version": "3.7.4"
  }
 },
 "nbformat": 4,
 "nbformat_minor": 2
}
