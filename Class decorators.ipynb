{
 "cells": [
  {
   "cell_type": "markdown",
   "metadata": {},
   "source": [
    "TestClass and Decorator must take same number of arguments, so we must pass a 'dummy' argument."
   ]
  },
  {
   "cell_type": "code",
   "execution_count": null,
   "metadata": {},
   "outputs": [],
   "source": [
    "class Decorator(object):\n",
    "    def __init__(self, arg):\n",
    "        self.arg = arg\n",
    "\n",
    "    def __call__(self, cls):\n",
    "        class Wrapped(cls):\n",
    "            def new_method(self, value):\n",
    "                return value * 21\n",
    "        return Wrapped"
   ]
  },
  {
   "cell_type": "code",
   "execution_count": null,
   "metadata": {},
   "outputs": [],
   "source": [
    "@Decorator(\"dummy\")\n",
    "class TestClass(object):\n",
    "    def __init__(self, driver):\n",
    "        self.driver = driver\n",
    "\n",
    "    def new_method(self, value):\n",
    "        return self.driver * 3"
   ]
  },
  {
   "cell_type": "code",
   "execution_count": null,
   "metadata": {},
   "outputs": [],
   "source": [
    "a = TestClass(6)\n",
    "print(a.new_method (5))"
   ]
  }
 ],
 "metadata": {
  "kernelspec": {
   "display_name": "Python 3",
   "language": "python",
   "name": "python3"
  },
  "language_info": {
   "codemirror_mode": {
    "name": "ipython",
    "version": 3
   },
   "file_extension": ".py",
   "mimetype": "text/x-python",
   "name": "python",
   "nbconvert_exporter": "python",
   "pygments_lexer": "ipython3",
   "version": "3.7.4"
  }
 },
 "nbformat": 4,
 "nbformat_minor": 2
}
