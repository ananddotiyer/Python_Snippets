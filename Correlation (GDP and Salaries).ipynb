{
 "cells": [
  {
   "cell_type": "markdown",
   "metadata": {},
   "source": [
    "Write a program to correlate gross domestic product (GDP) and personal income—specifically, wages and salaries. GDP is the value of all goods and services in the U.S. economy. The Bureau of Economic Analysis makes this data available in the public domain.  salaries.csv and gdp.csv used in the below code snippet is downloaded from https://apps.bea.gov/itable/"
   ]
  },
  {
   "cell_type": "code",
   "execution_count": null,
   "metadata": {},
   "outputs": [],
   "source": [
    "import csv"
   ]
  },
  {
   "cell_type": "code",
   "execution_count": null,
   "metadata": {},
   "outputs": [],
   "source": [
    "with open('files/salaries.csv') as f:\n",
    "    data = csv.reader(f)\n",
    "    for record in data:\n",
    "        try:\n",
    "            if record[1].strip() == \"Wages and salaries\":\n",
    "                salary_data = [float(value) for value in record[2:]]\n",
    "        except:\n",
    "            pass\n",
    "        \n",
    "print(salary_data)"
   ]
  },
  {
   "cell_type": "code",
   "execution_count": null,
   "metadata": {
    "scrolled": true
   },
   "outputs": [],
   "source": [
    "with open('files/gdp.csv') as f:\n",
    "    data = csv.reader(f)\n",
    "    for record in data:\n",
    "        try:\n",
    "            if record[1].strip() == \"Gross domestic product\":\n",
    "                gdp_data = [float(value) for value in record[2:]]\n",
    "        except:\n",
    "            pass\n",
    "        \n",
    "print(gdp_data)"
   ]
  },
  {
   "cell_type": "markdown",
   "metadata": {},
   "source": [
    "#### Find the correlation between the gdp_data and salary_data"
   ]
  },
  {
   "cell_type": "code",
   "execution_count": null,
   "metadata": {},
   "outputs": [],
   "source": [
    "def correlation(xList, yList):\n",
    "    import statistics\n",
    "    xBar = statistics.mean(xList)\n",
    "    yBar = statistics.mean(yList)\n",
    "    xStd = statistics.stdev(xList)\n",
    "    yStd = statistics.stdev(yList)\n",
    "    num = 0.0\n",
    "    for i in range(len(xList)):\n",
    "        num += (xList[i] - xBar) * (yList[i] - yBar)\n",
    "    corr = num / ((len(xList) - 1) * xStd * yStd)\n",
    "    return corr"
   ]
  },
  {
   "cell_type": "code",
   "execution_count": null,
   "metadata": {},
   "outputs": [],
   "source": [
    "correlation(gdp_data, salary_data)"
   ]
  }
 ],
 "metadata": {
  "kernelspec": {
   "display_name": "Python 3",
   "language": "python",
   "name": "python3"
  },
  "language_info": {
   "codemirror_mode": {
    "name": "ipython",
    "version": 3
   },
   "file_extension": ".py",
   "mimetype": "text/x-python",
   "name": "python",
   "nbconvert_exporter": "python",
   "pygments_lexer": "ipython3",
   "version": "3.7.4"
  }
 },
 "nbformat": 4,
 "nbformat_minor": 2
}
