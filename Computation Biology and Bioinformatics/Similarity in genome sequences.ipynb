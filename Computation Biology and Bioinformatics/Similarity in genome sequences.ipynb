{
 "cells": [
  {
   "cell_type": "markdown",
   "metadata": {},
   "source": [
    "https://pythonforbiologists.com/sequence-similarity-search"
   ]
  },
  {
   "cell_type": "markdown",
   "metadata": {},
   "source": [
    "A subject of great interest to biologists is the problem of identifying regions of similarity between DNA sequences. In particular, we are interested in the case where we have a large collection of sequences about which something is known, and we want to tell which, if any, are similar to a new sequence"
   ]
  },
  {
   "cell_type": "code",
   "execution_count": null,
   "metadata": {},
   "outputs": [],
   "source": [
    "# here are the five bits of information we described before\n",
    "def score_match(subject, query, subject_start, query_start, length):\n",
    "    score = 0\n",
    "    # for each base in the match\n",
    "    for i in range(0,length):\n",
    "        # first figure out the matching base from both sequences\n",
    "        subject_base = subject[subject_start + i]\n",
    "        query_base = query[query_start + i]\n",
    "        # then adjust the score up or down depending on \n",
    "        # whether or not they are the same\n",
    "        if subject_base == query_base:\n",
    "            score = score + 1\n",
    "        else:\n",
    "            score = score - 1\n",
    "    return score"
   ]
  },
  {
   "cell_type": "code",
   "execution_count": null,
   "metadata": {},
   "outputs": [],
   "source": [
    "def try_all_matches(subject, query, minimum_score):\n",
    "    for subject_start in range(0,len(subject)):\n",
    "        for query_start in range(0,len(query)):\n",
    "            for length in range(minimum_score, len(query)):\n",
    "                if (subject_start + length < len(subject) and query_start + length < len(query)):\n",
    "                    score = score_match(subject, query, subject_start, query_start, length)\n",
    "                    # only print a line of output if the score is better than some minimum_score\n",
    "                    if (score >= minimum_score):\n",
    "                        print(subject_start, query_start, length, score)"
   ]
  },
  {
   "cell_type": "code",
   "execution_count": null,
   "metadata": {},
   "outputs": [],
   "source": [
    "known_sequence = 'actgatcgattgatcgatcgatcg'\n",
    "unknown_sequence = 'tttagatcgatctttgatc'  # query sequence\n",
    "minimum_score = 6"
   ]
  },
  {
   "cell_type": "code",
   "execution_count": null,
   "metadata": {},
   "outputs": [],
   "source": [
    "try_all_matches(known_sequence, unknown_sequence, minimum_score)"
   ]
  }
 ],
 "metadata": {
  "kernelspec": {
   "display_name": "Python 3",
   "language": "python",
   "name": "python3"
  },
  "language_info": {
   "codemirror_mode": {
    "name": "ipython",
    "version": 3
   },
   "file_extension": ".py",
   "mimetype": "text/x-python",
   "name": "python",
   "nbconvert_exporter": "python",
   "pygments_lexer": "ipython3",
   "version": "3.7.4"
  }
 },
 "nbformat": 4,
 "nbformat_minor": 2
}
