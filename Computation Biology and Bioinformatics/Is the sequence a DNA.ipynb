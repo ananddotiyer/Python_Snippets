{
 "cells": [
  {
   "cell_type": "markdown",
   "metadata": {},
   "source": [
    "https://pythonforbiologists.com/counting-bases-in-a-sequence"
   ]
  },
  {
   "cell_type": "markdown",
   "metadata": {},
   "source": [
    "To start with we've to identify possible DNA bases in a sequence using Python.  Following tables gives the code and base of all nucleotides"
   ]
  },
  {
   "cell_type": "markdown",
   "metadata": {},
   "source": [
    "| Code     | Base                |\n",
    "|----------|---------------------|\n",
    "| A        | Adenine             |\n",
    "| C        | Cytosine            |\n",
    "| G        | Guanine             |\n",
    "| T (or U) | Thymine (or Uracil) |\n",
    "| R        | A or G              |\n",
    "| Y        | C or T              |\n",
    "| S        | G or C              |\n",
    "| W        | A or T              |\n",
    "| K        | G or T              |\n",
    "| M        | A or C              |\n",
    "| B        | C or G or T         |\n",
    "| D        | A or G or T         |\n",
    "| H        | A or C or T         |\n",
    "| V        | A or C or G         |\n",
    "| N        | any base            |\n",
    "| . or -   | gap                 |"
   ]
  },
  {
   "cell_type": "code",
   "execution_count": null,
   "metadata": {},
   "outputs": [],
   "source": [
    "def count_dna(seq, allowed_bases=['A','T','G','C']):\n",
    "    seq = seq.upper()\n",
    "    total_dna_bases = 0\n",
    "    for base in allowed_bases:\n",
    "        total_dna_bases = total_dna_bases + seq.count(base.upper())\n",
    "    dna_fraction = total_dna_bases / len(seq)\n",
    "    return(dna_fraction * 100)"
   ]
  },
  {
   "cell_type": "code",
   "execution_count": null,
   "metadata": {},
   "outputs": [],
   "source": [
    "print(count_dna(\"ACTRGATCYGATCGANTCGATG\"))\n",
    "print(count_dna(\"ACTRGATCYGATCGANTCGATG\", ['A','T','C','G','N']))\n",
    "print(count_dna(\"actgratcygtganctttgacg\"))"
   ]
  },
  {
   "cell_type": "code",
   "execution_count": null,
   "metadata": {},
   "outputs": [],
   "source": [
    "# if the dna_fraction is more than the minimum score, it's a DNA\n",
    "def is_dna(seq, allowed_bases=['A','T','G','C'], minimum=80):\n",
    "    return count_dna(seq, allowed_bases) > minimum"
   ]
  },
  {
   "cell_type": "code",
   "execution_count": null,
   "metadata": {},
   "outputs": [],
   "source": [
    "print(is_dna(\"ACTRGATCYGATCGANTCGATG\"))\n",
    "print(is_dna(\"ACTRGATCYGATCGANTCGATG\", minimum=90))\n",
    "print(is_dna(\"ACTRGATCYGATCGANTCGATG\", minimum=90, allowed_bases=['A','T','G','C','R','Y']))"
   ]
  }
 ],
 "metadata": {
  "kernelspec": {
   "display_name": "Python 3",
   "language": "python",
   "name": "python3"
  },
  "language_info": {
   "codemirror_mode": {
    "name": "ipython",
    "version": 3
   },
   "file_extension": ".py",
   "mimetype": "text/x-python",
   "name": "python",
   "nbconvert_exporter": "python",
   "pygments_lexer": "ipython3",
   "version": "3.7.4"
  }
 },
 "nbformat": 4,
 "nbformat_minor": 2
}
