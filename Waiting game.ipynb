{
 "cells": [
  {
   "cell_type": "markdown",
   "metadata": {},
   "source": [
    "Create a game where the user is asked to wait for specified time of seconds.  If the user hits Enter key before/after the specified time elapses, a message to this effect is printed.  Else, print \"Perfect timing!\""
   ]
  },
  {
   "cell_type": "code",
   "execution_count": null,
   "metadata": {},
   "outputs": [],
   "source": [
    "import time\n",
    "import random"
   ]
  },
  {
   "cell_type": "code",
   "execution_count": null,
   "metadata": {},
   "outputs": [],
   "source": [
    "def waiting_game():\n",
    "    target = random.randint(2,4)\n",
    "    print(f\"Your target wait time is {target} seconds\")\n",
    "    \n",
    "    print(\"Press Enter to begin\")\n",
    "    start = time.perf_counter()\n",
    "    \n",
    "    input(f\"Press Enter again after {target} seconds\")\n",
    "    elapsed = time.perf_counter() - start\n",
    "    \n",
    "    print(f\"Elapsed time is {elapsed:.3f} seconds\")\n",
    "    if elapsed == target:\n",
    "        print(\"Unbelievable.  Perfect timing!\")\n",
    "    elif elapsed > target:\n",
    "        print(f\"{(elapsed - target):.3f} too slow\")\n",
    "    elif elapsed < target:\n",
    "        print(f\"{(target - elapsed):.3f} too fast\")        "
   ]
  },
  {
   "cell_type": "code",
   "execution_count": null,
   "metadata": {},
   "outputs": [],
   "source": [
    "waiting_game()"
   ]
  }
 ],
 "metadata": {
  "kernelspec": {
   "display_name": "Python 3",
   "language": "python",
   "name": "python3"
  },
  "language_info": {
   "codemirror_mode": {
    "name": "ipython",
    "version": 3
   },
   "file_extension": ".py",
   "mimetype": "text/x-python",
   "name": "python",
   "nbconvert_exporter": "python",
   "pygments_lexer": "ipython3",
   "version": "3.7.4"
  }
 },
 "nbformat": 4,
 "nbformat_minor": 2
}
