{
 "cells": [
  {
   "cell_type": "markdown",
   "metadata": {},
   "source": [
    "Find all occurences of a given item in the search_list, including in nested lists.  Output should be a list of lists of indices"
   ]
  },
  {
   "cell_type": "code",
   "execution_count": null,
   "metadata": {},
   "outputs": [],
   "source": [
    "def index_all(search_list, item):\n",
    "    indices = list()\n",
    "    for i in range(len(search_list)):\n",
    "        if search_list[i] == item:\n",
    "            indices.append([i])\n",
    "        elif isinstance(search_list[i], list):\n",
    "            for index in index_all(search_list[i], item):\n",
    "                indices.append([i] + index)\n",
    "    return indices"
   ]
  },
  {
   "cell_type": "code",
   "execution_count": null,
   "metadata": {},
   "outputs": [],
   "source": [
    "search_list = [[1,2,3], 2, [[2,2,1]]]\n",
    "index_all(search_list, 2)"
   ]
  }
 ],
 "metadata": {
  "kernelspec": {
   "display_name": "Python 3",
   "language": "python",
   "name": "python3"
  },
  "language_info": {
   "codemirror_mode": {
    "name": "ipython",
    "version": 3
   },
   "file_extension": ".py",
   "mimetype": "text/x-python",
   "name": "python",
   "nbconvert_exporter": "python",
   "pygments_lexer": "ipython3",
   "version": "3.7.4"
  }
 },
 "nbformat": 4,
 "nbformat_minor": 2
}
