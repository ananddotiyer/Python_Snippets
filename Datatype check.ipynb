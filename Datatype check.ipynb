{
 "cells": [
  {
   "cell_type": "code",
   "execution_count": null,
   "metadata": {},
   "outputs": [],
   "source": [
    "class Table:\n",
    "    def __init__(self, cols, types):\n",
    "        assert len(cols) == len(types)\n",
    "\n",
    "        self.cols = cols\n",
    "        self.types = types\n",
    "        self.rows = []\n",
    "\n",
    "    def col2type(self, col):\n",
    "        idx = self.cols.index(col)\n",
    "        return self.types[idx]\n",
    "\n",
    "    def insert(self, values):\n",
    "        if len(values) != len(self.types):\n",
    "            raise Exception(\"Number of value must match number of types\")\n",
    "\n",
    "        for value, valtype in zip(values, self.types):\n",
    "            print(type(value), valtype)\n",
    "            if not isinstance(value, valtype):\n",
    "                raise TypeError(\"types don't match\")\n",
    "\n",
    "        self.rows.append(dict(zip(self.cols, values)))\n",
    "\n",
    "    def view(self):\n",
    "        return self.rows\n",
    "    \n",
    "    def clear(self):\n",
    "        self.rows.clear()"
   ]
  },
  {
   "cell_type": "code",
   "execution_count": null,
   "metadata": {},
   "outputs": [],
   "source": [
    "table = Table(['name', 'age', 'salary'], [str, int, float])\n",
    "\n",
    "table.insert(['Anand', 32, 1000.00])\n",
    "table.insert(['Aravind', 2, 100.00])"
   ]
  },
  {
   "cell_type": "code",
   "execution_count": null,
   "metadata": {},
   "outputs": [],
   "source": [
    "print(table.view())"
   ]
  }
 ],
 "metadata": {
  "kernelspec": {
   "display_name": "Python 3",
   "language": "python",
   "name": "python3"
  },
  "language_info": {
   "codemirror_mode": {
    "name": "ipython",
    "version": 3
   },
   "file_extension": ".py",
   "mimetype": "text/x-python",
   "name": "python",
   "nbconvert_exporter": "python",
   "pygments_lexer": "ipython3",
   "version": "3.7.4"
  }
 },
 "nbformat": 4,
 "nbformat_minor": 2
}
