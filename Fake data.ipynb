{
 "cells": [
  {
   "cell_type": "code",
   "execution_count": null,
   "metadata": {},
   "outputs": [],
   "source": [
    "from faker import Faker\n",
    "fake = Faker()\n",
    "\n",
    "with open(r\"files\\data.csv\") as handle:\n",
    "    data = handle.readline().strip().split(',')"
   ]
  },
  {
   "cell_type": "code",
   "execution_count": null,
   "metadata": {},
   "outputs": [],
   "source": [
    "handle = open(r\"files\\data.csv\",\"a\")\n",
    "\n",
    "# Generate 100 records of fake data, for each of the columns in data.csv.\n",
    "for i in range(100):\n",
    "    record = ''\n",
    "    for each in data:\n",
    "        fake_method = getattr(fake, each.lower())\n",
    "        record += f',\"{fake_method()}\"'\n",
    "\n",
    "    handle.write('\\n' + record[1:].replace('\\n', ','))\n",
    "\n",
    "handle.close()"
   ]
  }
 ],
 "metadata": {
  "kernelspec": {
   "display_name": "Python 3",
   "language": "python",
   "name": "python3"
  },
  "language_info": {
   "codemirror_mode": {
    "name": "ipython",
    "version": 3
   },
   "file_extension": ".py",
   "mimetype": "text/x-python",
   "name": "python",
   "nbconvert_exporter": "python",
   "pygments_lexer": "ipython3",
   "version": "3.7.4"
  }
 },
 "nbformat": 4,
 "nbformat_minor": 2
}
