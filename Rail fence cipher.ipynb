{
 "cells": [
  {
   "cell_type": "code",
   "execution_count": null,
   "metadata": {},
   "outputs": [],
   "source": [
    "def fence(lst, numrails):\n",
    "    fence = [[None] * len(lst) for n in range(numrails)]\n",
    "    rails = list(range(numrails - 1)) + list(range(numrails - 1, 0, -1))\n",
    "    for n, x in enumerate(lst):\n",
    "        fence[rails[n % len(rails)]][n] = x\n",
    "\n",
    "    return [c for rail in fence for c in rail if c is not None]"
   ]
  },
  {
   "cell_type": "code",
   "execution_count": null,
   "metadata": {},
   "outputs": [],
   "source": [
    "def encode(text, n):\n",
    "    return ''.join(fence(text, n))"
   ]
  },
  {
   "cell_type": "code",
   "execution_count": null,
   "metadata": {},
   "outputs": [],
   "source": [
    "def decode(text, n):\n",
    "    rng = range(len(text))\n",
    "    pos = fence(rng, n)\n",
    "    return ''.join(text[pos.index(n)] for n in rng)    "
   ]
  },
  {
   "cell_type": "code",
   "execution_count": null,
   "metadata": {},
   "outputs": [],
   "source": [
    "text = input(\"Please enter the text to cipher: \")\n",
    "z = encode(text, 3)\n",
    "print(z)"
   ]
  },
  {
   "cell_type": "code",
   "execution_count": null,
   "metadata": {},
   "outputs": [],
   "source": [
    "print(decode(z, 3))"
   ]
  }
 ],
 "metadata": {
  "kernelspec": {
   "display_name": "Python 3",
   "language": "python",
   "name": "python3"
  },
  "language_info": {
   "codemirror_mode": {
    "name": "ipython",
    "version": 3
   },
   "file_extension": ".py",
   "mimetype": "text/x-python",
   "name": "python",
   "nbconvert_exporter": "python",
   "pygments_lexer": "ipython3",
   "version": "3.7.4"
  }
 },
 "nbformat": 4,
 "nbformat_minor": 2
}
