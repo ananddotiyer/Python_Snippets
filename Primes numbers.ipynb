{
 "cells": [
  {
   "cell_type": "markdown",
   "metadata": {},
   "source": [
    "#### Print the first <<n\\>> prime numbers"
   ]
  },
  {
   "cell_type": "code",
   "execution_count": 2,
   "metadata": {},
   "outputs": [],
   "source": [
    "# Print the first 100 prime numbers\n",
    "import math"
   ]
  },
  {
   "cell_type": "code",
   "execution_count": 12,
   "metadata": {},
   "outputs": [
    {
     "name": "stdout",
     "output_type": "stream",
     "text": [
      "How many prime numbers100\n"
     ]
    }
   ],
   "source": [
    "max_number = int(input(\"How many prime numbers\"))"
   ]
  },
  {
   "cell_type": "code",
   "execution_count": 13,
   "metadata": {},
   "outputs": [
    {
     "name": "stdout",
     "output_type": "stream",
     "text": [
      "Following are 100 prime numbers:\n",
      "0. 3\n",
      "1. 11\n",
      "2. 13\n",
      "3. 17\n",
      "4. 19\n",
      "5. 23\n",
      "6. 29\n",
      "7. 31\n",
      "8. 37\n",
      "9. 41\n",
      "10. 43\n",
      "11. 47\n",
      "12. 53\n",
      "13. 59\n",
      "14. 61\n",
      "15. 67\n",
      "16. 71\n",
      "17. 73\n",
      "18. 79\n",
      "19. 83\n",
      "20. 89\n",
      "21. 97\n",
      "22. 101\n",
      "23. 103\n",
      "24. 107\n",
      "25. 109\n",
      "26. 113\n",
      "27. 121\n",
      "28. 127\n",
      "29. 131\n",
      "30. 137\n",
      "31. 139\n",
      "32. 143\n",
      "33. 149\n",
      "34. 151\n",
      "35. 157\n",
      "36. 163\n",
      "37. 167\n",
      "38. 169\n",
      "39. 173\n",
      "40. 179\n",
      "41. 181\n",
      "42. 187\n",
      "43. 191\n",
      "44. 193\n",
      "45. 197\n",
      "46. 199\n",
      "47. 209\n",
      "48. 211\n",
      "49. 221\n",
      "50. 223\n",
      "51. 227\n",
      "52. 229\n",
      "53. 233\n",
      "54. 239\n",
      "55. 241\n",
      "56. 247\n",
      "57. 251\n",
      "58. 253\n",
      "59. 257\n",
      "60. 263\n",
      "61. 269\n",
      "62. 271\n",
      "63. 277\n",
      "64. 281\n",
      "65. 283\n",
      "66. 289\n",
      "67. 293\n",
      "68. 299\n",
      "69. 307\n",
      "70. 311\n",
      "71. 313\n",
      "72. 317\n",
      "73. 319\n",
      "74. 323\n",
      "75. 331\n",
      "76. 337\n",
      "77. 341\n",
      "78. 347\n",
      "79. 349\n",
      "80. 353\n",
      "81. 359\n",
      "82. 361\n",
      "83. 367\n",
      "84. 373\n",
      "85. 377\n",
      "86. 379\n",
      "87. 383\n",
      "88. 389\n",
      "89. 391\n",
      "90. 397\n",
      "91. 401\n",
      "92. 403\n",
      "93. 407\n",
      "94. 409\n",
      "95. 419\n",
      "96. 421\n",
      "97. 431\n",
      "98. 433\n",
      "99. 437\n"
     ]
    }
   ],
   "source": [
    "# If we start at 3, as per the following logic, 4 will be printed.\n",
    "number = 5\n",
    "prime_counter = 1\n",
    "\n",
    "primes = [3]\n",
    "while True:\n",
    "    flag = False\n",
    "    divisor = 2 #initialization\n",
    "    while divisor < math.sqrt(max_number):\n",
    "        if number % divisor == 0:\n",
    "            flag = True  # Not a prime, since divisible.\n",
    "            break\n",
    "        else:\n",
    "            divisor += 1\n",
    "\n",
    "    if not flag:\n",
    "        prime_counter += 1\n",
    "        primes.append(number)\n",
    "    \n",
    "    number += 1  # Next number\n",
    "    \n",
    "    if prime_counter == max_number:\n",
    "        break\n",
    "\n",
    "print(\"Following are \" + str(prime_counter) + \" prime numbers:\")\n",
    "for i, each in enumerate(primes):\n",
    "    print(f\"{i}. {each}\")"
   ]
  },
  {
   "cell_type": "markdown",
   "metadata": {},
   "source": [
    "#### Prime numbers below a specified number"
   ]
  },
  {
   "cell_type": "code",
   "execution_count": null,
   "metadata": {},
   "outputs": [],
   "source": [
    "primes = set([2])\n",
    "value = 3\n",
    "number = 600851475143"
   ]
  },
  {
   "cell_type": "code",
   "execution_count": null,
   "metadata": {},
   "outputs": [],
   "source": [
    "while value < sqrt(number):\n",
    "    isPrime = True\n",
    "    for k in primes:\n",
    "        if value % k == 0:\n",
    "            isPrime = False\n",
    "            value += 2\n",
    "    if isPrime:\n",
    "        primes.add(value)\n",
    "        if number % value == 0:\n",
    "            print value\n",
    "            number /= value\n",
    "print number"
   ]
  }
 ],
 "metadata": {
  "kernelspec": {
   "display_name": "Python 3",
   "language": "python",
   "name": "python3"
  },
  "language_info": {
   "codemirror_mode": {
    "name": "ipython",
    "version": 3
   },
   "file_extension": ".py",
   "mimetype": "text/x-python",
   "name": "python",
   "nbconvert_exporter": "python",
   "pygments_lexer": "ipython3",
   "version": "3.7.4"
  }
 },
 "nbformat": 4,
 "nbformat_minor": 2
}
