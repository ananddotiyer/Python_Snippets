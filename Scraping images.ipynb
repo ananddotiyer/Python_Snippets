{
 "cells": [
  {
   "cell_type": "markdown",
   "metadata": {},
   "source": [
    "Following code uses BeautifulSoup to scrape (and download) images from the NASA website, recursively."
   ]
  },
  {
   "cell_type": "code",
   "execution_count": null,
   "metadata": {},
   "outputs": [],
   "source": [
    "import os\n",
    "import urllib.request\n",
    "from urllib.parse import urljoin\n",
    "from bs4 import BeautifulSoup\n",
    "\n",
    "base_url = \"https://apod.nasa.gov/apod/archivepix.html\"\n",
    "download_directory = r\"files\\apod_pictures\"\n",
    "content = urllib.request.urlopen(base_url).read()"
   ]
  },
  {
   "cell_type": "code",
   "execution_count": null,
   "metadata": {},
   "outputs": [],
   "source": [
    "for link in BeautifulSoup(content, \"lxml\").findAll(\"a\"):\n",
    "    print (\"Following link: \", link)\n",
    "    href = urljoin(base_url, link[\"href\"])\n",
    "    \n",
    "    content = urllib.request.urlopen(href).read()\n",
    "    for img in BeautifulSoup(content, \"lxml\").findAll(\"img\"):\n",
    "        img_href = urljoin(href, img[\"src\"])\n",
    "        print (\"Downloading image: \", img_href)\n",
    "        img_name = img_href.split(\"/\")[-1]\n",
    "        urllib.request.urlretrieve(img_href, os.path.join(download_directory, img_name))"
   ]
  }
 ],
 "metadata": {
  "kernelspec": {
   "display_name": "Python 3",
   "language": "python",
   "name": "python3"
  },
  "language_info": {
   "codemirror_mode": {
    "name": "ipython",
    "version": 3
   },
   "file_extension": ".py",
   "mimetype": "text/x-python",
   "name": "python",
   "nbconvert_exporter": "python",
   "pygments_lexer": "ipython3",
   "version": "3.7.4"
  }
 },
 "nbformat": 4,
 "nbformat_minor": 4
}
