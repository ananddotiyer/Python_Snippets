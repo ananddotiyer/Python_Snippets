{
 "cells": [
  {
   "cell_type": "markdown",
   "metadata": {},
   "source": [
    "Sending message from one Gmail account to another.  \n",
    "Enable **Less secure app access** in sender's account settings before this can be done."
   ]
  },
  {
   "cell_type": "code",
   "execution_count": null,
   "metadata": {},
   "outputs": [],
   "source": [
    "import smtplib\n",
    "\n",
    "SENDER_EMAIL = 'xxx@gmail.com'\n",
    "SENDER_PASSWORD = 'xxx'\n",
    "\n",
    "def send_email(receiver_mail, subject, body):\n",
    "    message = f\"Subject: {subject}\\n\\n{body}\"\n",
    "    with smtplib.SMTP_SSL(\"smtp.gmail.com\", 465) as gmail:\n",
    "        gmail.login(SENDER_EMAIL, SENDER_PASSWORD)\n",
    "        gmail.sendmail(SENDER_EMAIL, receiver_mail, message)"
   ]
  },
  {
   "cell_type": "code",
   "execution_count": null,
   "metadata": {},
   "outputs": [],
   "source": [
    "send_email(\"yyy@gmail.com\", \"Hello\", \"How are you?\")  # Check the spam folder for the message"
   ]
  }
 ],
 "metadata": {
  "kernelspec": {
   "display_name": "Python 3",
   "language": "python",
   "name": "python3"
  },
  "language_info": {
   "codemirror_mode": {
    "name": "ipython",
    "version": 3
   },
   "file_extension": ".py",
   "mimetype": "text/x-python",
   "name": "python",
   "nbconvert_exporter": "python",
   "pygments_lexer": "ipython3",
   "version": "3.7.4"
  }
 },
 "nbformat": 4,
 "nbformat_minor": 2
}
