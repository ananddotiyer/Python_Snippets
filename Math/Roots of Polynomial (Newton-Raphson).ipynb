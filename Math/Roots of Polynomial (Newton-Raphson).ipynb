{
 "cells": [
  {
   "cell_type": "markdown",
   "metadata": {},
   "source": [
    "Newton’s Method(also known as the Newton-Raphson method) is a successive approximation method for finding the roots of a function. Recall that the roots of a function f(x) are the values of x such that f(x) = 0.\n",
    "\n",
    "Here is how it works:\n",
    "\n",
    "1.We guess some x0.\n",
    "\n",
    "2.We check to see if it’s a root or close enough to a root by calculating f(x0). If f(x0) is within some small value epsilon of 0, we say that’s good enough and call x0 a root.\n",
    "\n",
    "3.If f(x0) is not good enough, we need to come up with a better guess, x1. x1 is calculated by the equation: x1 = x0 - f(x0)/f'(x0).\n",
    "\n",
    "4.We check to see if x1 is close enough to a root. If it is not, we make a better guess x2 and check that. And so on and so on. For every xn that is not close enough to a root, we replace it with xn+1 = xn - f(xn)/f'(xn) and check if that’s close enough to a root. We repeat until we finally find a value close to a root."
   ]
  },
  {
   "cell_type": "code",
   "execution_count": null,
   "metadata": {},
   "outputs": [],
   "source": [
    "def evaluate_poly(poly, x):\n",
    "    answer = 0\n",
    "    for coeff_exp in enumerate(poly):\n",
    "        answer += coeff_exp[1] * (x ** coeff_exp[0])\n",
    "\n",
    "    return answer"
   ]
  },
  {
   "cell_type": "code",
   "execution_count": null,
   "metadata": {},
   "outputs": [],
   "source": [
    "poly = (0.0, 0.0, 5.0, 9.3, 7.0)\n",
    "x = -13\n",
    "print(evaluate_poly(poly, x))"
   ]
  },
  {
   "cell_type": "code",
   "execution_count": null,
   "metadata": {},
   "outputs": [],
   "source": [
    "def compute_derivative(poly):\n",
    "    # divide each term\n",
    "    answer = []\n",
    "    for coeff_exp in enumerate(poly):\n",
    "        if coeff_exp[0] != 0:\n",
    "            answer.append(coeff_exp[0] * coeff_exp[1])\n",
    "\n",
    "    return tuple(answer)"
   ]
  },
  {
   "cell_type": "code",
   "execution_count": null,
   "metadata": {},
   "outputs": [],
   "source": [
    "poly = (-13.39, 0.0, 17.5, 3.0, 1.0)\n",
    "print (compute_derivative(poly))"
   ]
  },
  {
   "cell_type": "code",
   "execution_count": null,
   "metadata": {},
   "outputs": [],
   "source": [
    "def compute_root(poly, guess, num_trials=0):\n",
    "    error = 0.0001\n",
    "    try: \n",
    "        num_trials += 1\n",
    "    except:\n",
    "        num_trials = 0\n",
    "\n",
    "    f_val = evaluate_poly(poly, guess)\n",
    "    f_d_val = evaluate_poly(compute_derivative(poly), guess)\n",
    "\n",
    "    if abs(evaluate_poly(poly, guess)) > error:\n",
    "        guess -= f_val/f_d_val\n",
    "        return compute_root(poly, guess, num_trials)\n",
    "    else: #base case\n",
    "        return (guess, num_trials)"
   ]
  },
  {
   "cell_type": "code",
   "execution_count": null,
   "metadata": {},
   "outputs": [],
   "source": [
    "poly = (-13.39, 0.0, 17.5, 3.0, 1.0)\n",
    "guess = 0.1\n",
    "print(compute_root(poly, guess))"
   ]
  }
 ],
 "metadata": {
  "kernelspec": {
   "display_name": "Python 3",
   "language": "python",
   "name": "python3"
  },
  "language_info": {
   "codemirror_mode": {
    "name": "ipython",
    "version": 3
   },
   "file_extension": ".py",
   "mimetype": "text/x-python",
   "name": "python",
   "nbconvert_exporter": "python",
   "pygments_lexer": "ipython3",
   "version": "3.7.4"
  }
 },
 "nbformat": 4,
 "nbformat_minor": 2
}
