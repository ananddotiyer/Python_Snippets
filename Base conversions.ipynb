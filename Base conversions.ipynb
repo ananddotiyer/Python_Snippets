{
 "cells": [
  {
   "cell_type": "markdown",
   "metadata": {},
   "source": [
    "### Convert from one base to another "
   ]
  },
  {
   "cell_type": "code",
   "execution_count": null,
   "metadata": {},
   "outputs": [],
   "source": [
    "# Uses recursion\n",
    "def convert_to_base(n, base):\n",
    "    \"\"\"\n",
    "    n is the number to convert from base 10 to specified base.\n",
    "    base is the base to convert to.\n",
    "    \"\"\"\n",
    "    all_digits = \"0123456789ABCDEF\"\n",
    "    if n < base:\n",
    "        return all_digits[n]\n",
    "    else:\n",
    "        return convert_to_base(n // base, base) + all_digits[n % base]"
   ]
  },
  {
   "cell_type": "code",
   "execution_count": null,
   "metadata": {},
   "outputs": [],
   "source": [
    "number = int(input(\"Number to convert\"))\n",
    "base = int(input(\"Base?\"))\n",
    "print(convert_to_base(number, base))"
   ]
  },
  {
   "cell_type": "markdown",
   "metadata": {},
   "source": [
    "### Converts a fractional number of base 10 to binary. "
   ]
  },
  {
   "cell_type": "code",
   "execution_count": null,
   "metadata": {},
   "outputs": [],
   "source": [
    "def float_bin(number, places=3):\n",
    "    whole, fraction = str(number).split(\".\")\n",
    "\n",
    "    whole = int(whole)\n",
    "    fraction = int(fraction)\n",
    "\n",
    "    # Convert whole to binary and remove the \"0b\" from it.\n",
    "    result = bin(whole).lstrip(\"0b\") + \".\"\n",
    "\n",
    "    for x in range(places):\n",
    "        whole, fraction = str((base_converter(fraction)) * 2).split(\".\")\n",
    "\n",
    "        fraction = int(fraction)\n",
    "\n",
    "        result += whole\n",
    "\n",
    "    return result\n",
    "\n",
    "\n",
    "# Decimal the fractional part\n",
    "def base_converter(num):\n",
    "    if num == 0:\n",
    "        num = 0.0\n",
    "    while num >= 1:\n",
    "        num /= 10\n",
    "    return num"
   ]
  },
  {
   "cell_type": "code",
   "execution_count": null,
   "metadata": {},
   "outputs": [],
   "source": [
    "n = input(\"Enter your floating point value: \")\n",
    "\n",
    "d = int(input(\"Enter the number of decimal places required:\"))\n",
    "\n",
    "print(float_bin(n, places=d))"
   ]
  }
 ],
 "metadata": {
  "kernelspec": {
   "display_name": "Python 3",
   "language": "python",
   "name": "python3"
  },
  "language_info": {
   "codemirror_mode": {
    "name": "ipython",
    "version": 3
   },
   "file_extension": ".py",
   "mimetype": "text/x-python",
   "name": "python",
   "nbconvert_exporter": "python",
   "pygments_lexer": "ipython3",
   "version": "3.7.4"
  }
 },
 "nbformat": 4,
 "nbformat_minor": 2
}
