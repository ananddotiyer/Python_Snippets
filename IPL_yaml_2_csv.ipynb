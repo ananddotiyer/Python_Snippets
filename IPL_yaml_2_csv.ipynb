{
 "cells": [
  {
   "cell_type": "markdown",
   "metadata": {},
   "source": [
    "Dataset available at https://cricsheet.org/downloads/ipl.zip\n",
    "\n",
    "has one yaml per match held.  Each file contains ball-by-ball data for the corresponding match.\n",
    "\n",
    "In order to analyse the data properly, it needs to be converted to a CSV format.\n",
    "\n",
    "In the following set of code snippets, we're creating the content one record in the CSV from the data from one of the yaml files.  Writing to CSV isn't done, but instead prints to the console."
   ]
  },
  {
   "cell_type": "code",
   "execution_count": null,
   "metadata": {},
   "outputs": [],
   "source": [
    "import yaml\n",
    "\n",
    "f = open(r'D:\\Official\\GitHub\\Python_Snippets\\files\\335982.yaml')\n",
    "\n",
    "match = dict(yaml.load(f))"
   ]
  },
  {
   "cell_type": "code",
   "execution_count": null,
   "metadata": {},
   "outputs": [],
   "source": [
    "def next_over_ball(over, ball):\n",
    "    if ball < 12:\n",
    "        ball += 1\n",
    "    elif ball == 12 and over <= 19:\n",
    "        over += 1\n",
    "        ball = 1\n",
    "    else:\n",
    "        over = 0\n",
    "        ball = 1\n",
    "\n",
    "    return (over, ball)"
   ]
  },
  {
   "cell_type": "code",
   "execution_count": null,
   "metadata": {},
   "outputs": [],
   "source": [
    "for each_inning in match['innings']:\n",
    "    for inning in each_inning:\n",
    "        print(inning)\n",
    "        deliveries = iter(each_inning[inning]['deliveries'])\n",
    "\n",
    "        over = 0\n",
    "        ball = 0\n",
    "        num_wickets = 0\n",
    "        num_deliveries = 0\n",
    "        num_runs = 0\n",
    "\n",
    "        delivery = next(deliveries)\n",
    "\n",
    "        while over * ball < 12*19:\n",
    "            # num_deliveries += 1\n",
    "            over, ball = next_over_ball(over, ball)\n",
    "            next_ball = f'{over}.{ball}'\n",
    "            for info in delivery:\n",
    "                if next_ball != str(info):\n",
    "                    print(f'{next_ball} not bowled...')\n",
    "                    if ball == 12:\n",
    "                        print (f'd{over} = {num_deliveries}, w{over} = {num_wickets}, r{over} = {num_runs}')\n",
    "                        num_wickets = 0\n",
    "                        num_deliveries = 0\n",
    "                        num_runs = 0\n",
    "                else:\n",
    "                    num_deliveries += 1\n",
    "                    print(f\"Scored {delivery[info]['runs']['total']} in the {info} ball.\")\n",
    "                    num_runs += delivery[info]['runs']['total']\n",
    "                    try:\n",
    "                        info = delivery[info]\n",
    "                        info['wicket']\n",
    "                        num_wickets += 1\n",
    "                    except:\n",
    "                        pass\n",
    "                    try:\n",
    "                        delivery = next(deliveries)  #move to the next delivery\n",
    "                    except StopIteration:\n",
    "                        break"
   ]
  }
 ],
 "metadata": {
  "kernelspec": {
   "display_name": "Python 3",
   "language": "python",
   "name": "python3"
  },
  "language_info": {
   "codemirror_mode": {
    "name": "ipython",
    "version": 3
   },
   "file_extension": ".py",
   "mimetype": "text/x-python",
   "name": "python",
   "nbconvert_exporter": "python",
   "pygments_lexer": "ipython3",
   "version": "3.7.4"
  }
 },
 "nbformat": 4,
 "nbformat_minor": 2
}
