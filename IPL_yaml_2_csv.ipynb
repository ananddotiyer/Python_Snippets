{
 "cells": [
  {
   "cell_type": "markdown",
   "metadata": {},
   "source": [
    "Dataset available at https://cricsheet.org/downloads/ipl.zip\n",
    "\n",
    "has one yaml per match held.  Each file contains ball-by-ball data for the corresponding match.\n",
    "\n",
    "In order to analyse the data properly, it needs to be converted to a CSV format.\n",
    "\n",
    "In the following set of code snippets, we're creating the content one record in the CSV from the data from one of the yaml files.  Writing to CSV isn't done, but instead prints to the console."
   ]
  },
  {
   "cell_type": "code",
   "execution_count": null,
   "metadata": {},
   "outputs": [],
   "source": [
    "import yaml\n",
    "\n",
    "f = open(r'D:\\Official\\GitHub\\Python_Snippets\\files\\335982.yaml')\n",
    "\n",
    "match = dict(yaml.load(f))"
   ]
  },
  {
   "cell_type": "code",
   "execution_count": null,
   "metadata": {},
   "outputs": [],
   "source": [
    "def next_over_ball(over, ball):\n",
    "    if ball < 12:\n",
    "        ball += 1\n",
    "    elif ball == 12 and over <= 19:\n",
    "        over += 1\n",
    "        ball = 1\n",
    "    else:\n",
    "        over = 0\n",
    "        ball = 1\n",
    "\n",
    "    return (over, ball)"
   ]
  },
  {
   "cell_type": "code",
   "execution_count": null,
   "metadata": {},
   "outputs": [],
   "source": [
    "output_data = []\n",
    "\n",
    "#match data\n",
    "target_runs = 0\n",
    "match_date = match['info']['dates'][0].strftime('%Y-%m-%d')\n",
    "match_venue = match['info']['venue']\n",
    "\n",
    "for each_inning in match['innings']:\n",
    "    output_data.append({})  # a new record\n",
    "    for inning in each_inning:\n",
    "        output_data[-1]['date'] = match_date\n",
    "        output_data[-1]['venue'] = match_venue\n",
    "        output_data[-1]['innings'] = '1' if inning == '1st innings' else '2'\n",
    "        output_data[-1]['target'] = '' if inning == '1st innings' else str(target_runs)\n",
    "        output_data[-1]['team'] = each_inning[inning]['team']\n",
    "\n",
    "        print(f'\\n{inning}')\n",
    "        deliveries = iter(each_inning[inning]['deliveries'])\n",
    "\n",
    "        over = 0\n",
    "        ball = 0\n",
    "        num_wickets = 0\n",
    "        num_deliveries = 0\n",
    "        num_runs = 0\n",
    "        \n",
    "        delivery = next(deliveries)\n",
    "\n",
    "        while over * ball < 12*19:\n",
    "            # num_deliveries += 1\n",
    "            over, ball = next_over_ball(over, ball)\n",
    "            next_ball = f'{over}.{ball}'\n",
    "            for info in delivery:\n",
    "                if next_ball != str(info):\n",
    "                    output_data[-1][next_ball] = ''\n",
    "                    print(f'{next_ball} not bowled...')\n",
    "                    if ball == 12:\n",
    "                        print (f'd{over} = {num_deliveries}, w{over} = {num_wickets}, r{over} = {num_runs}')\n",
    "                        output_data[-1][f'd{over}'] = num_deliveries\n",
    "                        output_data[-1][f'w{over}'] = num_wickets\n",
    "                        output_data[-1][f'r{over}'] = num_runs\n",
    "                        if inning == '1st innings':\n",
    "                            target_runs += num_runs\n",
    "\n",
    "                        num_wickets = 0\n",
    "                        num_deliveries = 0\n",
    "                        num_runs = 0\n",
    "                else:\n",
    "                    num_deliveries += 1\n",
    "                    print(f\"Scored {delivery[info]['runs']['total']} in the {info} ball.\")\n",
    "                    output_data[-1][next_ball] = delivery[info]['runs']['total']\n",
    "                    num_runs += delivery[info]['runs']['total']\n",
    "\n",
    "                    try:\n",
    "                        info = delivery[info]\n",
    "                        info['wicket']\n",
    "                        num_wickets += 1\n",
    "                    except:\n",
    "                        pass\n",
    "                    try:\n",
    "                        delivery = next(deliveries)  #move to the next delivery\n",
    "                    except StopIteration:\n",
    "                        break\n",
    "\n",
    "print(output_data)\n",
    "\n",
    "f.close()"
   ]
  },
  {
   "cell_type": "code",
   "execution_count": null,
   "metadata": {},
   "outputs": [],
   "source": [
    "import csv\n",
    "\n",
    "with open(r'D:\\Official\\GitHub\\Python_Snippets\\files\\matches.csv', 'w', newline='') as csvfile:\n",
    "    fieldnames = output_data[0].keys()\n",
    "    writer = csv.DictWriter(csvfile, fieldnames=fieldnames)\n",
    "\n",
    "    writer.writeheader()\n",
    "    for each_record in output_data:\n",
    "        writer.writerow(each_record)"
   ]
  }
 ],
 "metadata": {
  "kernelspec": {
   "display_name": "Python 3",
   "language": "python",
   "name": "python3"
  },
  "language_info": {
   "codemirror_mode": {
    "name": "ipython",
    "version": 3
   },
   "file_extension": ".py",
   "mimetype": "text/x-python",
   "name": "python",
   "nbconvert_exporter": "python",
   "pygments_lexer": "ipython3",
   "version": "3.7.4"
  }
 },
 "nbformat": 4,
 "nbformat_minor": 2
}
