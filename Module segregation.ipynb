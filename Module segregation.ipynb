{
 "cells": [
  {
   "cell_type": "code",
   "execution_count": null,
   "metadata": {},
   "outputs": [],
   "source": [
    "import inspect\n",
    "import collections"
   ]
  },
  {
   "cell_type": "code",
   "execution_count": null,
   "metadata": {},
   "outputs": [],
   "source": [
    "module_name = input(\"Enter a module\")\n",
    "\n",
    "try:\n",
    "    module = __import__(module_name)\n",
    "except:\n",
    "    module = module_name\n",
    "\n",
    "dir_contents = dir(module)"
   ]
  },
  {
   "cell_type": "code",
   "execution_count": null,
   "metadata": {},
   "outputs": [],
   "source": [
    "special =  []\n",
    "methods = []\n",
    "descriptors = []\n",
    "properties = []\n",
    "\n",
    "for each in dir_contents:\n",
    "    if each.startswith('__'):\n",
    "        special.append(each)\n",
    "    elif isinstance(getattr(module, each), collections.Callable):\n",
    "        methods.append(each)\n",
    "    elif inspect.ismethoddescriptor(getattr(module, each)):\n",
    "        descriptors.append(each)\n",
    "    else:\n",
    "        properties.append(each)"
   ]
  },
  {
   "cell_type": "code",
   "execution_count": null,
   "metadata": {},
   "outputs": [],
   "source": [
    "print(f\"\\nFollowing are special methods of {module}:\\n{special}\")\n",
    "\n",
    "print(f\"\\nFollowing are methods of {module}:\\n{methods}\")\n",
    "\n",
    "print(f\"\\nFollowing are descriptors of {module}:\\n{descriptors}\")\n",
    "\n",
    "print(f\"\\nFollowing are properties of {module}:\\n{properties}\")"
   ]
  }
 ],
 "metadata": {
  "kernelspec": {
   "display_name": "Python 3",
   "language": "python",
   "name": "python3"
  },
  "language_info": {
   "codemirror_mode": {
    "name": "ipython",
    "version": 3
   },
   "file_extension": ".py",
   "mimetype": "text/x-python",
   "name": "python",
   "nbconvert_exporter": "python",
   "pygments_lexer": "ipython3",
   "version": "3.7.4"
  }
 },
 "nbformat": 4,
 "nbformat_minor": 2
}
