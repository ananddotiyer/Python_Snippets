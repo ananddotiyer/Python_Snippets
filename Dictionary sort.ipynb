{
 "cells": [
  {
   "cell_type": "code",
   "execution_count": null,
   "metadata": {},
   "outputs": [],
   "source": [
    "# Sort dictionary by its keys\n",
    "# Output: 3: 'Three', 4: 'Four', 5: 'Five'}\n",
    "d = {5: 'Five', 3: 'Three', 4: 'Four'}\n",
    "\n",
    "ordered_d = dict()\n",
    "\n",
    "for item in sorted(d.items()):\n",
    "    ordered_d[item[0]] = item[1]\n",
    "\n",
    "print(ordered_d)"
   ]
  },
  {
   "cell_type": "code",
   "execution_count": null,
   "metadata": {},
   "outputs": [],
   "source": [
    "# Sort dictionary by its values\n",
    "# Output: {5: 'Five', 4: 'Four', 3: 'Three'}\n",
    "d = {5: 'Five', 3: 'Three', 4: 'Four'}\n",
    "\n",
    "ordered_d = dict()\n",
    "\n",
    "for item in sorted(d.items(), key=lambda x: x[1]):\n",
    "    ordered_d[item[0]] = item[1]\n",
    "\n",
    "print(ordered_d)"
   ]
  },
  {
   "cell_type": "code",
   "execution_count": null,
   "metadata": {},
   "outputs": [],
   "source": [
    "# Sort dictionary by its keys\n",
    "# Output: {3: 'Three', 4: 'Four', 5: 'Five'}\n",
    "d = {5: 'Five', 3: 'Three', 4: 'Four'}\n",
    "\n",
    "ordered_d = dict()\n",
    "\n",
    "for item in sorted(d.items(), key=lambda x: x[0]):\n",
    "    ordered_d[item[0]] = item[1]\n",
    "\n",
    "print(ordered_d)"
   ]
  },
  {
   "cell_type": "code",
   "execution_count": null,
   "metadata": {},
   "outputs": [],
   "source": [
    "# Sort dictionary by its values, in their reverse order.\n",
    "# Output: {3: 'Three', 4: 'Four', 5: 'Five'}\n",
    "\n",
    "d = {5: 'Five', 3: 'Three', 4: 'Four'}\n",
    "\n",
    "ordered_d = dict()\n",
    "\n",
    "for item in sorted(d.items(), key=lambda x: x[1], reverse=True):\n",
    "    ordered_d[item[0]] = item[1]\n",
    "\n",
    "print(ordered_d)"
   ]
  },
  {
   "cell_type": "code",
   "execution_count": null,
   "metadata": {},
   "outputs": [],
   "source": [
    "# Sort dictionary by its keys, in their reverse order.\n",
    "# Output: {3: 'Three', 4: 'Four', 5: 'Five'}\n",
    "d = {5: 'Five', 3: 'Three', 4: 'Four'}\n",
    "\n",
    "ordered_d = dict()\n",
    "\n",
    "for key in sorted(d, key=d.get, reverse=True):\n",
    "    ordered_d[key] = d[key]\n",
    "\n",
    "print(ordered_d)"
   ]
  },
  {
   "cell_type": "code",
   "execution_count": null,
   "metadata": {},
   "outputs": [],
   "source": [
    "# Sort dictionary by its values, in their reverse order.\n",
    "# Output: {3: 'Three', 4: 'Four', 5: 'Five'}\n",
    "from operator import itemgetter\n",
    "\n",
    "d = {5: 'Five', 3: 'Three', 4: 'Four'}\n",
    "\n",
    "ordered_d = dict()\n",
    "\n",
    "for item in sorted(d.items(), key=itemgetter(1), reverse=True):\n",
    "    ordered_d[item[0]] = item[1]\n",
    "\n",
    "print(ordered_d)"
   ]
  },
  {
   "cell_type": "code",
   "execution_count": null,
   "metadata": {},
   "outputs": [],
   "source": [
    "# Sort a list of dictionaries by a common key.\n",
    "rows = [\n",
    "    {'fname': 'Anand', 'lname': 'Iyer', 'uid': 1003},\n",
    "    {'fname': 'Sitalakshmi', 'lname': '', 'uid': 1002},\n",
    "    {'fname': 'Aravind', 'lname': 'Krishnan', 'uid': 1001},\n",
    "    {'fname': 'Immanuel', 'lname': 'Moses', 'uid': 1004}\n",
    "]\n",
    "\n",
    "from operator import itemgetter\n",
    "\n",
    "rows_by_fname = sorted(rows, key=itemgetter('fname'))\n",
    "\n",
    "rows_by_uid = sorted(rows, key=itemgetter('uid'))\n",
    "\n",
    "for each in rows_by_fname:\n",
    "    print(each)\n",
    "\n",
    "for each in rows_by_uid:\n",
    "    print(each)"
   ]
  },
  {
   "cell_type": "code",
   "execution_count": null,
   "metadata": {},
   "outputs": [],
   "source": [
    "# Sort a list of dictionaries by multiple keys.\n",
    "rows = [\n",
    "    {'fname': 'Anand', 'lname': 'Iyer', 'uid': 1003},\n",
    "    {'fname': 'Sitalakshmi', 'lname': '', 'uid': 1002},\n",
    "    {'fname': 'Aravind', 'lname': 'Krishnan', 'uid': 1001},\n",
    "    {'fname': 'Immanuel', 'lname': 'Moses', 'uid': 1004}\n",
    "]\n",
    "\n",
    "from operator import itemgetter\n",
    "\n",
    "rows_by_lfname = sorted(rows, key=itemgetter('lname', 'fname'))\n",
    "\n",
    "for each in rows_by_lfname:\n",
    "    print(each)"
   ]
  },
  {
   "cell_type": "code",
   "execution_count": null,
   "metadata": {},
   "outputs": [],
   "source": [
    "# Sort dictionary by the length of its values.\n",
    "# Output: {6: 'Six', 5: 'Five', 4: 'Four', 3: 'Three'}\n",
    "d = {5: 'Five', 3: 'Three', 4: 'Four', 6: 'Six'}\n",
    "\n",
    "ordered_d = dict()\n",
    "\n",
    "for item in sorted(d.items(), key=lambda x: len(x[1])):\n",
    "    ordered_d[item[0]] = item[1]\n",
    "\n",
    "print(ordered_d)"
   ]
  }
 ],
 "metadata": {
  "kernelspec": {
   "display_name": "Python 3",
   "language": "python",
   "name": "python3"
  },
  "language_info": {
   "codemirror_mode": {
    "name": "ipython",
    "version": 3
   },
   "file_extension": ".py",
   "mimetype": "text/x-python",
   "name": "python",
   "nbconvert_exporter": "python",
   "pygments_lexer": "ipython3",
   "version": "3.7.4"
  }
 },
 "nbformat": 4,
 "nbformat_minor": 2
}
