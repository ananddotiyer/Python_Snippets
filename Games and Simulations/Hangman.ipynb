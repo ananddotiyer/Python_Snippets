{
 "cells": [
  {
   "cell_type": "code",
   "execution_count": null,
   "metadata": {},
   "outputs": [],
   "source": [
    "def random_word():\n",
    "    import random\n",
    "\n",
    "    handle = open(r\"D:\\Official\\GitHub\\Python-Intermediate\\Jessica McKellar\\files\\sowpods.txt\")\n",
    "    words = []\n",
    "    for line in handle:\n",
    "        words.append(line.strip())\n",
    "\n",
    "    return words[random.randint(0, len(words))]"
   ]
  },
  {
   "cell_type": "code",
   "execution_count": null,
   "metadata": {},
   "outputs": [],
   "source": [
    "def display_dashes(word):\n",
    "    return '_ ' * len(word)"
   ]
  },
  {
   "cell_type": "code",
   "execution_count": null,
   "metadata": {},
   "outputs": [],
   "source": [
    "def play(word):\n",
    "    tries = 0\n",
    "    part_word = list('_' * len(word))\n",
    "    word = list(word)\n",
    "    while True:\n",
    "        guess = input()\n",
    "        if guess not in word:\n",
    "            tries += 1\n",
    "        for letter in word:\n",
    "            if guess == letter:\n",
    "                index = word.index(guess)\n",
    "                part_word[index] = guess\n",
    "                word[index] = \"_\"\n",
    "\n",
    "        print(''.join(part_word))\n",
    "        if tries > 6:\n",
    "            print(\"You crossed 6 attempts!  Failed!\")\n",
    "            break\n",
    "        elif word.count('_') == len(word):\n",
    "            print(f\"You passed in {tries} attempts!\")\n",
    "            break\n",
    "        else:\n",
    "            pass"
   ]
  },
  {
   "cell_type": "code",
   "execution_count": null,
   "metadata": {},
   "outputs": [],
   "source": [
    "# main\n",
    "word = random_word()\n",
    "\n",
    "print(f\"{display_dashes(word)} ({word})\")\n",
    "\n",
    "play(word)"
   ]
  }
 ],
 "metadata": {
  "kernelspec": {
   "display_name": "Python 3",
   "language": "python",
   "name": "python3"
  },
  "language_info": {
   "codemirror_mode": {
    "name": "ipython",
    "version": 3
   },
   "file_extension": ".py",
   "mimetype": "text/x-python",
   "name": "python",
   "nbconvert_exporter": "python",
   "pygments_lexer": "ipython3",
   "version": "3.7.4"
  }
 },
 "nbformat": 4,
 "nbformat_minor": 2
}
