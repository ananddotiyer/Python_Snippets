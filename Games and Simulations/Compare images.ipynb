{
 "cells": [
  {
   "cell_type": "code",
   "execution_count": null,
   "metadata": {},
   "outputs": [],
   "source": [
    "#!/usr/bin/env python\n",
    "\n",
    "import cv2\n",
    "\n",
    "\n",
    "def compare(image1,image2):\n",
    "    match=False\n",
    "    img1 = cv2.imread(image1)\n",
    "    img2 = cv2.imread(image2)\n",
    "    row1, cols1, channel1 = img1.shape\n",
    "    row2, cols2, channel2 = img2.shape\n",
    "    print('image 1 rows:', row1)\n",
    "    print('image 2 rows:', row2)\n",
    "    print('image 1 cols:', cols1)\n",
    "    print('image 2 cols:', cols2)\n",
    "    print('image 1 channel:', channel1)\n",
    "    print('image 2 channel2:', channel2)\n",
    "    if (row1 != row2) or (cols1 != cols2) or (channel1 != channel2):\n",
    "        print(\"two images are different\")\n",
    "        match=False\n",
    "        return match\n",
    "    else:\n",
    "        mismatch = 0\n",
    "        for i in range(1, row1):\n",
    "            for j in range(1, cols1):\n",
    "                px1 = img1[i, j]\n",
    "                px2 = img2[i, j]\n",
    "                if px1.sum() != px2.sum():\n",
    "                    mismatch = mismatch + 1\n",
    "\n",
    "        print('total mismatch is:', mismatch)\n",
    "        return not mismatch"
   ]
  },
  {
   "cell_type": "code",
   "execution_count": null,
   "metadata": {},
   "outputs": [],
   "source": [
    "compare(\"files/Bambu1.png\", \"files/Bambu2.png\")"
   ]
  }
 ],
 "metadata": {
  "kernelspec": {
   "display_name": "Python 3",
   "language": "python",
   "name": "python3"
  },
  "language_info": {
   "codemirror_mode": {
    "name": "ipython",
    "version": 3
   },
   "file_extension": ".py",
   "mimetype": "text/x-python",
   "name": "python",
   "nbconvert_exporter": "python",
   "pygments_lexer": "ipython3",
   "version": "3.7.4"
  }
 },
 "nbformat": 4,
 "nbformat_minor": 2
}
