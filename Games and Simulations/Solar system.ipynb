{
 "cells": [
  {
   "cell_type": "markdown",
   "metadata": {},
   "source": [
    "#### Create the SolarSystem class with a hidden turtle"
   ]
  },
  {
   "cell_type": "markdown",
   "metadata": {},
   "source": [
    " __ssTurtle and __ssScreen that will provide graphical functionality to the solar system.  Since the turtle will not actually draw anything, we will hide it so that the shape cannot be seen. Using the width and height as parameters, we call the setworldcoordinates method to create a coordinate system that is equally distributed around the position (0, 0)."
   ]
  },
  {
   "cell_type": "code",
   "execution_count": 1,
   "metadata": {},
   "outputs": [],
   "source": [
    "class SolarSystem:\n",
    "    def __init__(self, width, height):\n",
    "        self.__theSun = None\n",
    "        self.__planets = []\n",
    "        self.__ssTurtle = turle.Turtle()\n",
    "        self.__ssTurtle.hideturtle()\n",
    "        self.__ssScreen = turtle.Screen()\n",
    "        self.__ssScreen.setworldcoordinates(-width/2.0, -height/2.0, width/2.0, height/2.0)\n",
    "        \n",
    "    def addPlanet(self, aPlanet):\n",
    "        self.__planets.append(aPlanet)\n",
    "    \n",
    "    def addSun(self, aSun):\n",
    "        self.__theSun = aSun\n",
    "        \n",
    "    def showPlanets(self):\n",
    "        for aPlanet in self.__planets:\n",
    "            print(aPlanet)\n",
    "            \n",
    "    def freeze(self):\n",
    "        self.__ssScreen.exitonclick()"
   ]
  }
 ],
 "metadata": {
  "kernelspec": {
   "display_name": "Python 3",
   "language": "python",
   "name": "python3"
  },
  "language_info": {
   "codemirror_mode": {
    "name": "ipython",
    "version": 3
   },
   "file_extension": ".py",
   "mimetype": "text/x-python",
   "name": "python",
   "nbconvert_exporter": "python",
   "pygments_lexer": "ipython3",
   "version": "3.7.4"
  }
 },
 "nbformat": 4,
 "nbformat_minor": 2
}
