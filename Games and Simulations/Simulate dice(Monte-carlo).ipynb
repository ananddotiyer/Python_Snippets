{
 "cells": [
  {
   "cell_type": "markdown",
   "metadata": {},
   "source": [
    "**Setup**\n",
    "There are multiple dies with different number of faces.  For example, 3-faced, 4-faced, 6-faced.  This constitutes of a set of dies."
   ]
  },
  {
   "cell_type": "markdown",
   "metadata": {},
   "source": [
    "Simulate rolling of *one set of dies* at a time, a million times.\n",
    "For example in a set of 3 dies, one simulation will yield 1 million output, each output being a sum of each of the 3 dies.\n",
    "After the simulation is complete, find the probability of each *sum* among the total number of trials"
   ]
  },
  {
   "cell_type": "code",
   "execution_count": null,
   "metadata": {},
   "outputs": [],
   "source": [
    "from random import randint\n",
    "from collections import Counter"
   ]
  },
  {
   "cell_type": "code",
   "execution_count": null,
   "metadata": {},
   "outputs": [],
   "source": [
    "def roll_dice(*dice, num_trials=1_000_000):\n",
    "    counts = Counter()\n",
    "    for roll in range(num_trials):\n",
    "        roll = (randint(1,sides) for sides in dice)  # one roll, of all dies\n",
    "        counts[sum(roll)] += 1\n",
    "        \n",
    "    print(\"\\nOUTCOME\\tPROBABILITY\")\n",
    "    # len(dice) is the least outcome, since each die will yield at least 1.\n",
    "    for outcome in range(len(dice), sum(dice) + 1):\n",
    "        probability = counts[outcome] * 100 / num_trials\n",
    "        print(f\"{outcome}\\t{probability:0.2f}%\")"
   ]
  },
  {
   "cell_type": "code",
   "execution_count": null,
   "metadata": {},
   "outputs": [],
   "source": [
    "roll_dice(3,4,6)"
   ]
  }
 ],
 "metadata": {
  "kernelspec": {
   "display_name": "Python 3",
   "language": "python",
   "name": "python3"
  },
  "language_info": {
   "codemirror_mode": {
    "name": "ipython",
    "version": 3
   },
   "file_extension": ".py",
   "mimetype": "text/x-python",
   "name": "python",
   "nbconvert_exporter": "python",
   "pygments_lexer": "ipython3",
   "version": "3.7.4"
  }
 },
 "nbformat": 4,
 "nbformat_minor": 2
}
