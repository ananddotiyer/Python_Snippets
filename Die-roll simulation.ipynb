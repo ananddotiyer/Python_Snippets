{
 "cells": [
  {
   "cell_type": "code",
   "execution_count": null,
   "metadata": {},
   "outputs": [],
   "source": [
    "%matplotlib notebook\n",
    "%matplotlib notebook  # This is a workaround.  https://github.com/ipython/ipython/issues/10873\n",
    "\n",
    "from matplotlib import animation\n",
    "import matplotlib.pyplot as plt\n",
    "import random \n",
    "import seaborn as sns\n",
    "import sys"
   ]
  },
  {
   "cell_type": "code",
   "execution_count": null,
   "metadata": {},
   "outputs": [],
   "source": [
    "def update(frame_number, rolls, faces, frequencies):\n",
    "    \"\"\"Configures bar plot contents for each animation frame.\"\"\"\n",
    "    # roll die and update frequencies\n",
    "    for i in range(rolls):\n",
    "        frequencies[random.randrange(1, 7) - 1] += 1 \n",
    "\n",
    "    # reconfigure plot for updated die frequencies\n",
    "    plt.cla()  # clear old contents contents of current Figure\n",
    "    axes = sns.barplot(faces, frequencies, palette='bright')  # new bars\n",
    "    axes.set_title(f'Die Frequencies for {sum(frequencies):,} Rolls')\n",
    "    axes.set(xlabel='Die Value', ylabel='Frequency')  \n",
    "    axes.set_ylim(top=max(frequencies) * 1.10)  # scale y-axis by 10%\n",
    "\n",
    "    # display frequency & percentage above each patch (bar)\n",
    "    for bar, frequency in zip(axes.patches, frequencies):\n",
    "        text_x = bar.get_x() + bar.get_width() / 2.0  \n",
    "        text_y = bar.get_height() \n",
    "        text = f'{frequency:,}\\n{frequency / sum(frequencies):.3%}'\n",
    "        axes.text(text_x, text_y, text, ha='center', va='bottom')"
   ]
  },
  {
   "cell_type": "code",
   "execution_count": null,
   "metadata": {},
   "outputs": [],
   "source": [
    "# read command-line arguments for number of frames and rolls per frame\n",
    "number_of_frames = 600000\n",
    "rolls_per_frame = 60000  \n",
    "\n",
    "sns.set_style('whitegrid')  # white backround with gray grid lines\n",
    "figure = plt.figure('Rolling a Six-Sided Die')  # Figure for animation\n",
    "values = list(range(1, 7))  # die faces for display on x-axis\n",
    "frequencies = [0] * 6  # six-element list of die frequencies\n",
    "\n",
    "# configure and start animation that calls function update\n",
    "die_animation = animation.FuncAnimation(\n",
    "    figure, update, repeat=False, frames=number_of_frames, interval=33,\n",
    "    fargs=(rolls_per_frame, values, frequencies))\n",
    "\n",
    "# plt.show()  # display window"
   ]
  }
 ],
 "metadata": {
  "kernelspec": {
   "display_name": "Python 3",
   "language": "python",
   "name": "python3"
  },
  "language_info": {
   "codemirror_mode": {
    "name": "ipython",
    "version": 3
   },
   "file_extension": ".py",
   "mimetype": "text/x-python",
   "name": "python",
   "nbconvert_exporter": "python",
   "pygments_lexer": "ipython3",
   "version": "3.7.4"
  }
 },
 "nbformat": 4,
 "nbformat_minor": 2
}
