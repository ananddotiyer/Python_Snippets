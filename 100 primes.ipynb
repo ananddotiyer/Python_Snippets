{
 "cells": [
  {
   "cell_type": "code",
   "execution_count": null,
   "metadata": {},
   "outputs": [],
   "source": [
    "# Print the first 100 prime numbers\n",
    "# If we start at 3, as per the following logic, 4 will be printed.\n",
    "number = 5\n",
    "prime_counter = 1\n",
    "\n",
    "primes = [3]\n",
    "while True:\n",
    "    flag = False\n",
    "    divisor = 2 #initialization\n",
    "    while divisor < number//2:\n",
    "        if number % divisor == 0:\n",
    "            flag = True  # Not a prime, since divisible.\n",
    "            break\n",
    "        else:\n",
    "            divisor += 1\n",
    "\n",
    "    if not flag:\n",
    "        prime_counter += 1\n",
    "        primes.append(number)\n",
    "    \n",
    "    number += 1  # Next number\n",
    "    \n",
    "    if prime_counter == 100:\n",
    "        break\n",
    "\n",
    "print(\"Following are \" + str(prime_counter) + \" prime numbers:\")\n",
    "for i, each in enumerate(primes):\n",
    "    print(f\"{i}. {each}\")"
   ]
  }
 ],
 "metadata": {
  "kernelspec": {
   "display_name": "Python 3",
   "language": "python",
   "name": "python3"
  },
  "language_info": {
   "codemirror_mode": {
    "name": "ipython",
    "version": 3
   },
   "file_extension": ".py",
   "mimetype": "text/x-python",
   "name": "python",
   "nbconvert_exporter": "python",
   "pygments_lexer": "ipython3",
   "version": "3.7.4"
  }
 },
 "nbformat": 4,
 "nbformat_minor": 2
}
