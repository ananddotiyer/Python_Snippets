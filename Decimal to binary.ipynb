{
 "cells": [
  {
   "cell_type": "code",
   "execution_count": null,
   "metadata": {},
   "outputs": [],
   "source": [
    "def float_bin(number, places = 3): \n",
    "    whole, dec = str(number).split(\".\") \n",
    "  \n",
    "    whole = int(whole) \n",
    "    dec = int (dec) \n",
    "  \n",
    "    # Convert whole to binary and remove the \"0b\" from it. \n",
    "    res = bin(whole).lstrip(\"0b\") + \".\"\n",
    "  \n",
    "    for x in range(places): \n",
    "        whole, dec = str((decimal_converter(dec)) * 2).split(\".\") \n",
    "  \n",
    "        dec = int(dec) \n",
    "  \n",
    "        res += whole \n",
    "  \n",
    "    return res \n",
    "  \n",
    "# Function converts the value passed as parameter to it's decimal representation \n",
    "def decimal_converter(num):  \n",
    "    while num > 1: \n",
    "        num /= 10\n",
    "    return num \n",
    "  "
   ]
  },
  {
   "cell_type": "code",
   "execution_count": null,
   "metadata": {},
   "outputs": [],
   "source": [
    "n = input(\"Enter your floating point value: \") \n",
    "  \n",
    "p = int(input(\"Enter the number of decimal places required:\"))\n",
    "  \n",
    "print(float_bin(n, places = p))"
   ]
  }
 ],
 "metadata": {
  "kernelspec": {
   "display_name": "Python 3",
   "language": "python",
   "name": "python3"
  },
  "language_info": {
   "codemirror_mode": {
    "name": "ipython",
    "version": 3
   },
   "file_extension": ".py",
   "mimetype": "text/x-python",
   "name": "python",
   "nbconvert_exporter": "python",
   "pygments_lexer": "ipython3",
   "version": "3.7.4"
  }
 },
 "nbformat": 4,
 "nbformat_minor": 2
}
