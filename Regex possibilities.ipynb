{
 "cells": [
  {
   "cell_type": "code",
   "execution_count": null,
   "metadata": {},
   "outputs": [],
   "source": [
    "import re\n",
    "\n",
    "string_with_newlines = \"\"\"something\n",
    "someotherthing\"\"\"\n",
    "\n",
    "print(re.match('some', string_with_newlines))  # matches\n",
    "print(re.match('someother', string_with_newlines))  # won't match\n",
    "print(re.match('^someother', string_with_newlines, re.MULTILINE))  # also won't match\n",
    "print(re.search('someother', string_with_newlines))  # finds something\n",
    "print(re.search('^someother', string_with_newlines, re.MULTILINE))  # also finds something"
   ]
  },
  {
   "cell_type": "code",
   "execution_count": null,
   "metadata": {},
   "outputs": [],
   "source": [
    "m = re.compile('thing$', re.MULTILINE)"
   ]
  },
  {
   "cell_type": "code",
   "execution_count": null,
   "metadata": {},
   "outputs": [],
   "source": [
    "print(m.match(string_with_newlines))  # no match\n",
    "print(m.match(string_with_newlines, pos=4))  # matches\n",
    "print(m.search(string_with_newlines, re.MULTILINE))  # also matches"
   ]
  }
 ],
 "metadata": {
  "kernelspec": {
   "display_name": "Python 3",
   "language": "python",
   "name": "python3"
  },
  "language_info": {
   "codemirror_mode": {
    "name": "ipython",
    "version": 3
   },
   "file_extension": ".py",
   "mimetype": "text/x-python",
   "name": "python",
   "nbconvert_exporter": "python",
   "pygments_lexer": "ipython3",
   "version": "3.7.4"
  }
 },
 "nbformat": 4,
 "nbformat_minor": 4
}
