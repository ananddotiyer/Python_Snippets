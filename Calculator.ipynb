{
 "cells": [
  {
   "cell_type": "markdown",
   "metadata": {},
   "source": [
    "#### THis is not entirely bug-free.  Ex: fails to work with (7 + 8) * 2 - (6 - 3) * (1 + 4)."
   ]
  },
  {
   "cell_type": "code",
   "execution_count": null,
   "metadata": {},
   "outputs": [],
   "source": [
    "import re"
   ]
  },
  {
   "cell_type": "code",
   "execution_count": null,
   "metadata": {},
   "outputs": [],
   "source": [
    "operators = ['\\/', '\\*', '\\+', '\\-']"
   ]
  },
  {
   "cell_type": "code",
   "execution_count": null,
   "metadata": {},
   "outputs": [],
   "source": [
    "def calculate(op1, op, op2):\n",
    "    if op == '+':\n",
    "        result = op1 + op2\n",
    "    elif op == '-':\n",
    "        result = op1 - op2\n",
    "    elif op == '*':\n",
    "        result = op1 * op2\n",
    "    elif op == '/':\n",
    "        result = op1 / op2\n",
    "    else:\n",
    "        result = 0\n",
    "\n",
    "    return result"
   ]
  },
  {
   "cell_type": "code",
   "execution_count": null,
   "metadata": {},
   "outputs": [],
   "source": [
    "def convert(number_string):\n",
    "    try:\n",
    "        number = int(number_string)\n",
    "    except:\n",
    "        number = float(number_string)\n",
    "\n",
    "    return number"
   ]
  },
  {
   "cell_type": "code",
   "execution_count": null,
   "metadata": {},
   "outputs": [],
   "source": [
    "def substitute(matchobj):\n",
    "    m = matchobj.group(0)\n",
    "    op1, op, op2 = m[1:-1].split()\n",
    "\n",
    "    result = calculate(convert(op1), op, convert(op2))\n",
    "    return str(result)"
   ]
  },
  {
   "cell_type": "code",
   "execution_count": null,
   "metadata": {},
   "outputs": [],
   "source": [
    "# main program\n",
    "# expression = \"4 + 3 - 5 * 7 / 4\"\n",
    "# expression = \"1 + 2 - 2 * 3 * (4 - 1) - 1 + 1 * 2\"\n",
    "\n",
    "expression = input(\"Enter the expression\")"
   ]
  },
  {
   "cell_type": "code",
   "execution_count": null,
   "metadata": {},
   "outputs": [],
   "source": [
    "# convert all subtractions in expression to adding a negative number.\n",
    "pattern = '\\- (\\d+\\.*\\d*)'\n",
    "expression = re.sub(pattern, '+ -\\\\g<1>', expression)\n",
    "\n",
    "counter = 1\n",
    "for operator in operators:\n",
    "    operator_pattern = f'(-?\\d+\\.*\\d* {operator} -?\\d+\\.*\\d*)'  # to include '-' unary operator,  use '-?'\n",
    "    bracket_pattern = \"\\(.*?\\)\"\n",
    "    while re.search(operator_pattern,\n",
    "                    expression):  # if there are multiple operators in a sequence, resolve them in sequence.\n",
    "        # resolve the bracketed operations for this step.\n",
    "        expression = re.sub(bracket_pattern, substitute, expression)\n",
    "\n",
    "        print(f\"Iteration: {counter}. Step1: {expression}\")\n",
    "\n",
    "        # put brackets around each operator, and computing it before passing it on.\n",
    "        expression = re.sub(operator_pattern, \"(\\\\g<1>)\", expression)\n",
    "\n",
    "        print(f\"Iteration: {counter}. Step2: {expression}\")\n",
    "\n",
    "        counter += 1"
   ]
  }
 ],
 "metadata": {
  "kernelspec": {
   "display_name": "Python 3",
   "language": "python",
   "name": "python3"
  },
  "language_info": {
   "codemirror_mode": {
    "name": "ipython",
    "version": 3
   },
   "file_extension": ".py",
   "mimetype": "text/x-python",
   "name": "python",
   "nbconvert_exporter": "python",
   "pygments_lexer": "ipython3",
   "version": "3.7.4"
  }
 },
 "nbformat": 4,
 "nbformat_minor": 2
}
