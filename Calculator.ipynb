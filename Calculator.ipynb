{
 "cells": [
  {
   "cell_type": "markdown",
   "metadata": {},
   "source": [
    "#### Calculates mathematical expression by using bracketed notation.\n",
    "#### Ignores other priorities.  Calculates left to right."
   ]
  },
  {
   "cell_type": "code",
   "execution_count": null,
   "metadata": {},
   "outputs": [],
   "source": [
    "def calculate(op1, op, op2):\n",
    "\tif op == '+':\n",
    "\t\tresult = op1 + op2\n",
    "\telif op == '-':\n",
    "\t\tresult = op1 - op2\n",
    "\telif op == '*':\n",
    "\t\tresult = op1 * op2\n",
    "\telif op == '/':\n",
    "\t\tresult = op1 / op2\n",
    "\telse:\n",
    "\t\tresult = 0\n",
    "\t\n",
    "\treturn result"
   ]
  },
  {
   "cell_type": "code",
   "execution_count": null,
   "metadata": {},
   "outputs": [],
   "source": [
    "expression = input(\"Enter the mathematical expression.  Use brackets as required\")  # \"4 / (9 - 7) * 3 / (24 - 6)\""
   ]
  },
  {
   "cell_type": "code",
   "execution_count": null,
   "metadata": {},
   "outputs": [],
   "source": [
    "def substitute(matchobj):\n",
    "\tm =  matchobj.group(0)\n",
    "\top1, op, op2 = m[1:-1].split()\n",
    "\treturn str(calculate(int(op1), op, int(op2)))"
   ]
  },
  {
   "cell_type": "code",
   "execution_count": null,
   "metadata": {},
   "outputs": [],
   "source": [
    "import re\n",
    "\n",
    "pattern = \"\\(.*?\\)\"\n",
    "\n",
    "expression = re.sub(pattern, substitute, expression)  # resolve all bracketed operations"
   ]
  },
  {
   "cell_type": "code",
   "execution_count": null,
   "metadata": {},
   "outputs": [],
   "source": [
    "original_parts = expression.split()"
   ]
  },
  {
   "cell_type": "code",
   "execution_count": null,
   "metadata": {},
   "outputs": [],
   "source": [
    "start = 0\n",
    "end = 3\n",
    "\n",
    "parts = original_parts[start:end]"
   ]
  },
  {
   "cell_type": "code",
   "execution_count": null,
   "metadata": {},
   "outputs": [],
   "source": [
    "while end <= len(original_parts):\n",
    "\top1, op, op2 = int(parts[0]), parts[1], int(parts[2])\n",
    "\n",
    "\tparts = []\n",
    "\n",
    "\tprint(op1, op, op2)\n",
    "\t\n",
    "\tparts.append(calculate(op1, op, op2))\n",
    "\n",
    "\tstart = end\n",
    "\tend += 2\n",
    "\n",
    "\tparts.extend(original_parts[start:end]) # # 9 - 7"
   ]
  },
  {
   "cell_type": "code",
   "execution_count": null,
   "metadata": {},
   "outputs": [],
   "source": [
    "print(f\"Answer: {parts[0]}\")  # output"
   ]
  }
 ],
 "metadata": {
  "kernelspec": {
   "display_name": "Python 3",
   "language": "python",
   "name": "python3"
  },
  "language_info": {
   "codemirror_mode": {
    "name": "ipython",
    "version": 3
   },
   "file_extension": ".py",
   "mimetype": "text/x-python",
   "name": "python",
   "nbconvert_exporter": "python",
   "pygments_lexer": "ipython3",
   "version": "3.7.4"
  }
 },
 "nbformat": 4,
 "nbformat_minor": 2
}
