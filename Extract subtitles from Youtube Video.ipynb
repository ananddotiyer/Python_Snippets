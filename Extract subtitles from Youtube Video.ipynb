{
 "cells": [
  {
   "cell_type": "markdown",
   "metadata": {},
   "source": [
    "1.  Open the video on Youtube.  Pause the video\n",
    "2.  Right-click on the webpage and select 'Inspect'.  Go to the 'Network' tab.\n",
    "3.  In the video, click 'CC'.  \n",
    "4. Observe that this operation would create a new entry containing the text 'timedtext'.  See attached picture.\n",
    "5.  Right-click on this URL and open in a new tab.  It'll open a page that contains the subtitles in a JSON format.\n",
    "6.  Ctrl+A and copy the entire contents of the page and paste into 'files/timedtext.txt'\n",
    "8.  Run the following snippet.  This will create 'files/sub.txt', containing the subtitles of the video in text format."
   ]
  },
  {
   "cell_type": "code",
   "execution_count": 1,
   "metadata": {},
   "outputs": [
    {
     "name": "stdout",
     "output_type": "stream",
     "text": [
      "\"utf8\": \"Hello.\"\n",
      "\"utf8\": \"Welcome to Statistics for Data Science-1.\"\n",
      "\"utf8\": \"I am Usha Mohan, Professor at the Department\\nof Management Studies, IIT Madras.\"\n",
      "\"utf8\": \"Over the next 12 weeks, we would travel together\\nto understand the basics of statistics that\"\n",
      "\"utf8\": \"is needed for your online degree programme.\"\n",
      "\"utf8\": \"So, we first begin with understanding what\\nis statistics.\"\n",
      "\"utf8\": \"So, first we look at what is the definition\\nof statistics.\"\n",
      "\"utf8\": \"So, one of the most popular definitions of\\nstatistics tells us statistics is the art\"\n",
      "\"utf8\": \"of learning from data which includes collection\\nof data, analysis of data, presentation of\"\n",
      "\"utf8\": \"data, and then, drawing conclusions from data.\"\n",
      "\"utf8\": \"So, one of the main things you are going to\\nlearn in this course is to first, we are going\"\n",
      "\"utf8\": \"to look at how you collect data So, that is\\none of the main things which we will do.\"\n",
      "\"utf8\": \"So, we start with data collection.\"\n",
      "\"utf8\": \"So, we look at how you collect data and then,\\nwe go on to see how you actually present this\"\n",
      "\"utf8\": \"data.\"\n",
      "\"utf8\": \"During this course, we learn about how you\\ndo present data in a tabular form; we introduce\"\n",
      "\"utf8\": \"a concepts of frequency tables; we introduce\\na concept of relative frequency and we look\"\n",
      "\"utf8\": \"at how you tabulate data.\"\n",
      "\"utf8\": \"We also learn about the different types of\\ndata that you encounter.\"\n",
      "\"utf8\": \"Then, we look at how you further look at describing\\ndata using graphical techniques.\"\n",
      "\"utf8\": \"Some of the graphical techniques that you\\nwould learn are bar charts, pie charts, histograms,\"\n",
      "\"utf8\": \"stem leaf plots etcetera.\"\n",
      "\"utf8\": \"We then, also go about learning how you actually\\ncome up with numerical measures of data.\"\n",
      "\"utf8\": \"What we look here mainly is at the measures\\nof central tendency; namely, mean, median\"\n",
      "\"utf8\": \"and mode and the measures of variation; namely,\\nrange, variance, standard deviation.\"\n",
      "\"utf8\": \"So, far we have just talked about describing\\na single variable, we also look at answering\"\n",
      "\"utf8\": \"questions about association between variables.\"\n",
      "\"utf8\": \"Towards this, we also introduce the concept\\nof contingency tables, scatter plots and we\"\n",
      "\"utf8\": \"also introduce what is a correlation matrix.\"\n",
      "\"utf8\": \"So, predominantly in the descriptive statistics\\nmodule, you will be learning about collecting\"\n",
      "\"utf8\": \"data, organising data and describing data.\"\n",
      "\"utf8\": \"Describing data both using graphical techniques\\nand numerical techniques.\"\n",
      "\"utf8\": \"Now, once you are comfortable with just describing\\ndata, where the question is you just want\"\n",
      "\"utf8\": \"to describe whatever data you have.\"\n",
      "\"utf8\": \"The next step is to try and see I said that\\nstatistics is the art of using data to draw\"\n",
      "\"utf8\": \"conclusions.\"\n",
      "\"utf8\": \"So, you want to infer something from data.\"\n",
      "\"utf8\": \"So, this lays the playground for you to go\\nnext level which is inferential statistics.\"\n",
      "\"utf8\": \"Inferential statistics will be taught in the\\nnext course on statistics.\"\n",
      "\"utf8\": \"But, however, in this course, we will help\\nyou by laying the foundation or the building\"\n",
      "\"utf8\": \"block to understand inferential statistics.\"\n",
      "\"utf8\": \"What do I mean by building block to understand\\ninferential statistics?\"\n",
      "\"utf8\": \"We motivate this through a small introduction\\nto the probability theory.\"\n",
      "\"utf8\": \"When we go to probability theory, we start\\nby what we mean by permutation and combinations.\"\n",
      "\"utf8\": \"This is something which you are going to revisit.\"\n",
      "\"utf8\": \"Most of you would have learned this in high\\nschool, but you are going to revisit the concept\"\n",
      "\"utf8\": \"of permutation and combinations.\"\n",
      "\"utf8\": \"Then, we introduce the notion of probability\\nthrough random experiments like rolling a\"\n",
      "\"utf8\": \"die, tossing a coin and then, afterwards we\\ntalk about probability of events, the combination\"\n",
      "\"utf8\": \"of events and why they are necessary.\"\n",
      "\"utf8\": \"Finally, we end this course by introducing\\nto two main distributions; namely, the binomial\"\n",
      "\"utf8\": \"distribution and the normal distribution.\"\n",
      "\"utf8\": \"Throughout the course, the focus is going\\nto be on teaching at a conceptual level and\"\n",
      "\"utf8\": \"applying these concepts to real world problems.\"\n",
      "\"utf8\": \"So, you will have a lot of assignments which\\nwill test your knowledge, both at a conceptual\"\n",
      "\"utf8\": \"level and an application level.\"\n",
      "\"utf8\": \"There would be at every stage, we will try\\nand motivate the learner to look at understanding\"\n",
      "\"utf8\": \"the concepts and applying their concepts through\\na set of case studies specifically designed\"\n",
      "\"utf8\": \"for this course.\"\n",
      "\"utf8\": \"Welcome again to the world of statistics and\\nthis course which is Statistics for Data Science-1.\"\n"
     ]
    }
   ],
   "source": [
    "import re\n",
    "\n",
    "sub_titles = []\n",
    "\n",
    "pattern = '\"utf8\": \"(.*)\"'\n",
    "with open('files/timedtext.txt') as f:\n",
    "\tfor line in f:\n",
    "\t\tline = line.strip()\n",
    "\t\tif '\"utf8\": ' in line:\n",
    "\t\t\tprint(line)\n",
    "\t\t\tmatches = re.match(pattern, line)\n",
    "\t\t\tif matches is not None:\n",
    "\t\t\t\t# ensure there're two spaces between every line.\n",
    "\t\t\t\tsub_titles.append((matches.groups()[0] + \"  \").replace(\"\\\\n\", \" \"))\n",
    "\t\t\t\n",
    "with open('files/sub.txt', 'w') as f:\n",
    "\tf.write(''.join(sub_titles))"
   ]
  }
 ],
 "metadata": {
  "kernelspec": {
   "display_name": "Python 3",
   "language": "python",
   "name": "python3"
  },
  "language_info": {
   "codemirror_mode": {
    "name": "ipython",
    "version": 3
   },
   "file_extension": ".py",
   "mimetype": "text/x-python",
   "name": "python",
   "nbconvert_exporter": "python",
   "pygments_lexer": "ipython3",
   "version": "3.7.4"
  }
 },
 "nbformat": 4,
 "nbformat_minor": 2
}
