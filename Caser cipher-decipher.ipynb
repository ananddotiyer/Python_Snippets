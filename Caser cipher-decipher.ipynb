{
 "cells": [
  {
   "cell_type": "markdown",
   "metadata": {},
   "source": [
    "### Encrypt"
   ]
  },
  {
   "cell_type": "code",
   "execution_count": null,
   "metadata": {},
   "outputs": [],
   "source": [
    "input_string = input(\"Enter the text to encrypt\")\n",
    "key = int(input(\"Enter the increment\"))"
   ]
  },
  {
   "cell_type": "code",
   "execution_count": null,
   "metadata": {},
   "outputs": [],
   "source": [
    "import string\n",
    "chars = string.ascii_lowercase\n",
    "punctuation = string.punctuation\n",
    "punctuation += ' '"
   ]
  },
  {
   "cell_type": "code",
   "execution_count": null,
   "metadata": {},
   "outputs": [],
   "source": [
    "for char in input_string:\n",
    "    if char in punctuation:\n",
    "        out_char = char\n",
    "    else:\n",
    "        idx = (chars.index(char) + key) % len(chars)\n",
    "        out_char = chars[idx]\n",
    "    \n",
    "    print(out_char, end='')"
   ]
  },
  {
   "cell_type": "markdown",
   "metadata": {},
   "source": [
    "### Decrypt"
   ]
  },
  {
   "cell_type": "code",
   "execution_count": null,
   "metadata": {},
   "outputs": [],
   "source": [
    "input_string = input(\"Enter the text to decrypt\")\n",
    "key = int(input(\"Enter the key\"))"
   ]
  },
  {
   "cell_type": "code",
   "execution_count": null,
   "metadata": {},
   "outputs": [],
   "source": [
    "for char in input_string:\n",
    "    if char in punctuation:\n",
    "        out_char = char\n",
    "    else:\n",
    "        idx = (chars.index(char) - key) % len(chars)\n",
    "        out_char = chars[idx]\n",
    "    \n",
    "    print(out_char, end='')"
   ]
  }
 ],
 "metadata": {
  "kernelspec": {
   "display_name": "Python 3",
   "language": "python",
   "name": "python3"
  },
  "language_info": {
   "codemirror_mode": {
    "name": "ipython",
    "version": 3
   },
   "file_extension": ".py",
   "mimetype": "text/x-python",
   "name": "python",
   "nbconvert_exporter": "python",
   "pygments_lexer": "ipython3",
   "version": "3.7.4"
  }
 },
 "nbformat": 4,
 "nbformat_minor": 2
}
