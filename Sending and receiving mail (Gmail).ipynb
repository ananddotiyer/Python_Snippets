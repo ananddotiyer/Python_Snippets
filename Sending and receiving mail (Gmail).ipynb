{
 "cells": [
  {
   "cell_type": "markdown",
   "metadata": {},
   "source": [
    "#### Sending mail (gmail)"
   ]
  },
  {
   "cell_type": "markdown",
   "metadata": {},
   "source": [
    "Enable **Less secure app access** in sender's account settings before this can be done."
   ]
  },
  {
   "cell_type": "code",
   "execution_count": null,
   "metadata": {},
   "outputs": [],
   "source": [
    "import smtplib\n",
    "\n",
    "SENDER_EMAIL = 'xxx@gmail.com'\n",
    "SENDER_PASSWORD = 'xxx'\n",
    "\n",
    "def send_email(receiver_mail, subject, body):\n",
    "    message = f\"Subject: {subject}\\n\\n{body}\"\n",
    "    with smtplib.SMTP_SSL(\"smtp.gmail.com\", 465) as gmail:\n",
    "        gmail.login(SENDER_EMAIL, SENDER_PASSWORD)\n",
    "        gmail.sendmail(SENDER_EMAIL, receiver_mail, message)"
   ]
  },
  {
   "cell_type": "code",
   "execution_count": null,
   "metadata": {},
   "outputs": [],
   "source": [
    "send_email(\"yyy@gmail.com\", \"Hello\", \"How are you?\")  # Check the spam folder for the message"
   ]
  },
  {
   "cell_type": "markdown",
   "metadata": {},
   "source": [
    "#### Receiving emails (Gmail)"
   ]
  },
  {
   "cell_type": "code",
   "execution_count": null,
   "metadata": {},
   "outputs": [],
   "source": [
    "import imaplib\n",
    "import email\n",
    "import io\n",
    "\n",
    "SMTP_SERVER = \"imap.gmail.com\"\n",
    "SMTP_PORT   = 993\n",
    "\n",
    "def read_email_from_gmail(account, password):\n",
    "    try:\n",
    "        mail = imaplib.IMAP4_SSL(SMTP_SERVER)\n",
    "        mail.login(account, password)\n",
    "        mail.select('inbox')\n",
    "\n",
    "        type, data = mail.search(None, 'ALL')\n",
    "        mail_ids = data[0]\n",
    "\n",
    "        id_list = mail_ids.split()   \n",
    "        first_email_id = int(id_list[0])\n",
    "        latest_email_id = int(id_list[-1])\n",
    "\n",
    "\n",
    "        for i in range(latest_email_id,first_email_id, -1):\n",
    "            typ, data = mail.fetch(str(i), '(RFC822)' )\n",
    "\n",
    "            for response_part in data:\n",
    "                if isinstance(response_part, tuple):\n",
    "                    msg = email.message_from_bytes(response_part[1])\n",
    "                    email_subject = msg['subject']\n",
    "                    email_from = msg['from']\n",
    "                    print (f'From: {email_from}, Subject: {email_subject}\\n')\n",
    "\n",
    "                    # Mail body\n",
    "                    for part in msg.walk():\n",
    "                        if part.get_content_type() == \"text/plain\": # ignore attachments/html\n",
    "                            body = part.get_payload(decode=True)\n",
    "                            print(body.decode('utf-8'))\n",
    "                            break\n",
    "                    \n",
    "                    input()  # Wait for user input to open the next mail.\n",
    "    except Exception:\n",
    "        print (str(e))"
   ]
  },
  {
   "cell_type": "code",
   "execution_count": null,
   "metadata": {},
   "outputs": [],
   "source": [
    "EMAIL  = \"happiewaters@gmail.com\"\n",
    "PASSWORD    = \"XPerSEtY\"\n",
    "\n",
    "read_email_from_gmail(EMAIL, PASSWORD)"
   ]
  }
 ],
 "metadata": {
  "kernelspec": {
   "display_name": "Python 3",
   "language": "python",
   "name": "python3"
  },
  "language_info": {
   "codemirror_mode": {
    "name": "ipython",
    "version": 3
   },
   "file_extension": ".py",
   "mimetype": "text/x-python",
   "name": "python",
   "nbconvert_exporter": "python",
   "pygments_lexer": "ipython3",
   "version": "3.7.4"
  }
 },
 "nbformat": 4,
 "nbformat_minor": 2
}
