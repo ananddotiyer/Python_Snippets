{
 "cells": [
  {
   "cell_type": "code",
   "execution_count": null,
   "metadata": {},
   "outputs": [],
   "source": [
    "from flask import Flask, jsonify, request"
   ]
  },
  {
   "cell_type": "code",
   "execution_count": null,
   "metadata": {},
   "outputs": [],
   "source": [
    "app = Flask(__name__)"
   ]
  },
  {
   "cell_type": "code",
   "execution_count": null,
   "metadata": {},
   "outputs": [],
   "source": [
    "@app.route('/')\n",
    "def home():\n",
    "    return 'Hello world'"
   ]
  },
  {
   "cell_type": "code",
   "execution_count": null,
   "metadata": {},
   "outputs": [],
   "source": [
    "stores = [\n",
    "    {\n",
    "        \"name\": \"My store\",\n",
    "        \"items\": [\n",
    "            {\n",
    "                \"name\": \"Mobile\",\n",
    "                \"price\": 14.99\n",
    "            }\n",
    "        ]\n",
    "    }\n",
    "]"
   ]
  },
  {
   "cell_type": "code",
   "execution_count": null,
   "metadata": {},
   "outputs": [],
   "source": [
    "@app.route('/stores')\n",
    "def store():\n",
    "    return jsonify({\"stores\":stores})"
   ]
  },
  {
   "cell_type": "code",
   "execution_count": null,
   "metadata": {},
   "outputs": [],
   "source": [
    "@app.route('/store', methods=['POST'])\n",
    "def new_store(name):\n",
    "    request_data = request.get_json()\n",
    "    new_store = {\n",
    "        \"name\": request_data['name'],\n",
    "        \"items\": []\n",
    "    }\n",
    "    stores.append(new_store)\n",
    "    return jsonify(new_store)"
   ]
  },
  {
   "cell_type": "code",
   "execution_count": null,
   "metadata": {},
   "outputs": [],
   "source": [
    "@app.route('/store/<string:name>')\n",
    "def get_store(name):\n",
    "    for store in stores:\n",
    "        if store['name'] == name:\n",
    "            return jsonify(store)\n",
    "\n",
    "    return jsonify({\"message\": \"store not found\"})"
   ]
  },
  {
   "cell_type": "code",
   "execution_count": null,
   "metadata": {},
   "outputs": [],
   "source": [
    "@app.route('/store/<string:name>/items')\n",
    "def get_store_items(name):\n",
    "    for store in stores:\n",
    "        if store['name'] == name:\n",
    "            return jsonify({\"items\": store['items']})\n",
    "\n",
    "    return jsonify({\"message\": \"store not found\"})"
   ]
  },
  {
   "cell_type": "code",
   "execution_count": null,
   "metadata": {},
   "outputs": [],
   "source": [
    "@app.route('/store/<string:name>/item', methods=['POST'])\n",
    "def new_store_item(name):\n",
    "    request_data = request.get_json()\n",
    "    new_item = {\n",
    "        \"name\": request_data['name'],\n",
    "        \"price\": request_data['price']\n",
    "    }\n",
    "    for store in stores:\n",
    "        if store['name'] == name:\n",
    "            store[items].append(new_item)\n",
    "            return jsonify(new_item)\n",
    "    \n",
    "    return jsonify({\"message\": \"store not found\"})"
   ]
  },
  {
   "cell_type": "code",
   "execution_count": null,
   "metadata": {},
   "outputs": [],
   "source": [
    "app.run(port=5000)"
   ]
  }
 ],
 "metadata": {
  "kernelspec": {
   "display_name": "Python 3",
   "language": "python",
   "name": "python3"
  },
  "language_info": {
   "codemirror_mode": {
    "name": "ipython",
    "version": 3
   },
   "file_extension": ".py",
   "mimetype": "text/x-python",
   "name": "python",
   "nbconvert_exporter": "python",
   "pygments_lexer": "ipython3",
   "version": "3.7.4"
  }
 },
 "nbformat": 4,
 "nbformat_minor": 2
}
