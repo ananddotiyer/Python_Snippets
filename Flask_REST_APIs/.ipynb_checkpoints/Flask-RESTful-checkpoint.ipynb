{
 "cells": [
  {
   "cell_type": "markdown",
   "metadata": {},
   "source": [
    "#### Student resource"
   ]
  },
  {
   "cell_type": "code",
   "execution_count": null,
   "metadata": {},
   "outputs": [],
   "source": [
    "from flask import Flask\n",
    "from flask_restful import Resource, Api\n",
    "\n",
    "app = Flask(__name__)\n",
    "\n",
    "api = Api(app)\n",
    "\n",
    "class Student(Resource):\n",
    "    def get(self, name):\n",
    "        return {'student': name}\n",
    "\n",
    "api.add_resource(Student, '/student/<string:name>')\n",
    "\n",
    "app.run()"
   ]
  },
  {
   "cell_type": "markdown",
   "metadata": {},
   "source": [
    "#### Item resource"
   ]
  },
  {
   "cell_type": "code",
   "execution_count": null,
   "metadata": {},
   "outputs": [],
   "source": [
    "from flask import Flask, request\n",
    "from flask_restful import Resource, Api\n",
    "\n",
    "app = Flask(__name__)\n",
    "\n",
    "api = Api(app)\n",
    "\n",
    "items = []\n",
    "\n",
    "class Item(Resource):\n",
    "    def get(self, name):\n",
    "        for item in items:\n",
    "            if item['name'] == name:\n",
    "                return item\n",
    "            \n",
    "        return {'message': \"Invalid item name\"}, 404\n",
    "\n",
    "    def post(self, name):\n",
    "        payload = request.get_json()\n",
    "        item = {'name': name, 'price': payload['price']}\n",
    "        items.append(item)\n",
    "        return item, 201\n",
    "\n",
    "class ItemList(Resource):\n",
    "    def get(self):\n",
    "        return {'items': items}\n",
    "    \n",
    "api.add_resource(Item, '/item/<string:name>')\n",
    "api.add_resource(ItemList, '/items')\n",
    "\n",
    "app.run(debug=True)"
   ]
  },
  {
   "cell_type": "markdown",
   "metadata": {},
   "source": [
    "#### Added a check during post, if item already exists."
   ]
  },
  {
   "cell_type": "code",
   "execution_count": null,
   "metadata": {},
   "outputs": [],
   "source": [
    "from flask import Flask, request\n",
    "from flask_restful import Resource, Api\n",
    "\n",
    "app = Flask(__name__)\n",
    "\n",
    "api = Api(app)\n",
    "\n",
    "items = []\n",
    "\n",
    "class Item(Resource):\n",
    "\tdef get(self, name):\n",
    "\t\titem = next(filter(lambda x: x['name'] == name, items), None)\n",
    "\t\treturn {'item': item}, 200 if item else 404\n",
    "\n",
    "\tdef post(self, name):\n",
    "\t\tif next(filter(lambda x: x['name'] == name, items), None):\n",
    "\t\t\treturn {'message': f'item {name} already exists'}, 400\n",
    "\t\t\t\n",
    "\t\tpayload = request.get_json()\n",
    "\t\titem = {'name': name, 'price': payload['price']}\n",
    "\t\titems.append(item)\n",
    "\t\treturn item, 201\n",
    "\n",
    "class ItemList(Resource):\n",
    "\tdef get(self):\n",
    "\t\treturn {'items': items}\n",
    "    \n",
    "api.add_resource(Item, '/item/<string:name>')\n",
    "api.add_resource(ItemList, '/items')\n",
    "\n",
    "app.run(debug=True)"
   ]
  },
  {
   "cell_type": "code",
   "execution_count": null,
   "metadata": {},
   "outputs": [],
   "source": [
    "!pip install Flask-JWT"
   ]
  },
  {
   "cell_type": "markdown",
   "metadata": {},
   "source": [
    "#### Authentication with Flask JWT"
   ]
  },
  {
   "cell_type": "code",
   "execution_count": null,
   "metadata": {},
   "outputs": [],
   "source": [
    "# app.py\n",
    "\n",
    "from flask import Flask, request\n",
    "from flask_restful import Resource, Api\n",
    "from flask_jwt import JWT, jwt_required\n",
    "from security import authenticate, identity\n",
    "\n",
    "app = Flask(__name__)\n",
    "app.secret_key = 'anand'\n",
    "api = Api(app)\n",
    "\n",
    "jwt = JWT(app, authenticate, identity)  # auth\n",
    "\n",
    "items = []\n",
    "\n",
    "class Item(Resource):\n",
    "\t@jwt_required()\n",
    "\tdef get(self, name):\n",
    "\t\titem = next(filter(lambda x: x['name'] == name, items), None)\n",
    "\t\treturn {'item': item}, 200 if item else 404\n",
    "\n",
    "\tdef post(self, name):\n",
    "\t\tif next(filter(lambda x: x['name'] == name, items), None):\n",
    "\t\t\treturn {'message': f'item {name} already exists'}, 400\n",
    "\t\t\t\n",
    "\t\tpayload = request.get_json()\n",
    "\t\titem = {'name': name, 'price': payload['price']}\n",
    "\t\titems.append(item)\n",
    "\t\treturn item, 201\n",
    "\n",
    "class ItemList(Resource):\n",
    "\tdef get(self):\n",
    "\t\treturn {'items': items}\n",
    "    \n",
    "api.add_resource(Item, '/item/<string:name>')\n",
    "api.add_resource(ItemList, '/items')\n",
    "\n",
    "app.run(debug=True)"
   ]
  },
  {
   "cell_type": "code",
   "execution_count": null,
   "metadata": {},
   "outputs": [],
   "source": [
    "#security.py\n",
    "\n",
    "from user import User\n",
    "\n",
    "users = [\n",
    "\tUser(1, 'Anand', 'password')\n",
    "]\n",
    "userid_mapping = {u.id:u for u in users}\n",
    "username_mapping = {u.name:u for u in users}\n",
    "\n",
    "def authenticate(username, password):\n",
    "\tuser = username_mapping.get(username, None)\n",
    "\tif user and user.password == password:\n",
    "\t\treturn user\n",
    "\n",
    "def identity(payload):\n",
    "\tuser_id = payload['identity']\n",
    "\treturn userid_mapping.get(user_id, None)\n",
    "\t\n",
    "\t"
   ]
  },
  {
   "cell_type": "code",
   "execution_count": null,
   "metadata": {},
   "outputs": [],
   "source": [
    "# user.py\n",
    "\n",
    "class User():\n",
    "\tdef __init__(self, _id, name, password):\n",
    "\t\tself.id = _id\n",
    "\t\tself.name = name\n",
    "\t\tself.password = password"
   ]
  },
  {
   "cell_type": "markdown",
   "metadata": {},
   "source": [
    "After starting the flask server, create the JWT token using http://localhost:5000/auth with the POST body as \n",
    "\n",
    "{\n",
    "\t\"username\": \"Anand\",\n",
    "\t\"password\": \"password\"\n",
    "}\n",
    "\n",
    "The output will be a JWT token.\n",
    "\n",
    "Copy the token, and add to the header for http://localhost:5000/item/phone \n",
    "\n",
    "Authorization - JWT \\\\<JWT token copied above\\\\>\n",
    "\n"
   ]
  },
  {
   "cell_type": "markdown",
   "metadata": {},
   "source": [
    "#### Using reqparse, implemented put method"
   ]
  },
  {
   "cell_type": "code",
   "execution_count": null,
   "metadata": {},
   "outputs": [],
   "source": [
    "# app.py\n",
    "\n",
    "from flask import Flask, request\n",
    "from flask_restful import Resource, Api, reqparse\n",
    "from flask_jwt import JWT, jwt_required\n",
    "from security import authenticate, identity\n",
    "\n",
    "app = Flask(__name__)\n",
    "app.secret_key = 'anand'\n",
    "api = Api(app)\n",
    "\n",
    "jwt = JWT(app, authenticate, identity)\t# auth\n",
    "\n",
    "items = []\n",
    "\n",
    "class Item(Resource):\n",
    "\tparser = reqparse.RequestParser()\n",
    "\tparser.add_argument('price',\n",
    "\t\ttype=float,\n",
    "\t\trequired=True,\n",
    "\t\thelp=\"This field cannot be left blank!\"\n",
    "\t)\n",
    "\n",
    "\t@jwt_required()\n",
    "\tdef get(self, name):\n",
    "\t\titem = next(filter(lambda x: x['name'] == name, items), None)\n",
    "\t\treturn {'item': item}, 200 if item else 404\n",
    "\n",
    "\t@jwt_required()\n",
    "\tdef post(self, name):\n",
    "\t\tif next(filter(lambda x: x['name'] == name, items), None):\n",
    "\t\t\treturn {'message': f'item {name} already exists'}, 400\n",
    "\t\t\t\n",
    "\t\tpayload = Item.parser.parse_args()\n",
    "\t\titem = {'name': name, 'price': payload['price']}\n",
    "\t\titems.append(item)\n",
    "\t\treturn item, 201\n",
    "\t\n",
    "\t@jwt_required()\n",
    "\tdef delete(self, name):\n",
    "\t\tglobal items\n",
    "\t\t\n",
    "\t\titems = list(filter(lambda x:x['name'] != name, items))\n",
    "\t\treturn {\"message\": f\"item {name} deleted\"}\n",
    "\t\n",
    "\t@jwt_required()\n",
    "\tdef put(self, name):\n",
    "\t\tpayload = Item.parser.parse_args()\n",
    "\n",
    "\t\titem = next(filter(lambda x: x['name'] == name, items), None)\n",
    "\n",
    "\t\tif item is None:\n",
    "\t\t\titem = {'name': name, 'price': payload['price']}\n",
    "\t\t\titems.append(item)\n",
    "\t\telse:\n",
    "\t\t\titem.update(payload)\n",
    "\t\t\t\n",
    "\t\treturn item\n",
    "\t\t\n",
    "class ItemList(Resource):\n",
    "\t@jwt_required()\n",
    "\tdef get(self):\n",
    "\t\treturn {'items': items}\n",
    "\t\n",
    "api.add_resource(Item, '/item/<string:name>')\n",
    "api.add_resource(ItemList, '/items')\n",
    "\n",
    "app.run(debug=True)"
   ]
  },
  {
   "cell_type": "markdown",
   "metadata": {},
   "source": [
    "#### No changes to security.py and user.py"
   ]
  }
 ],
 "metadata": {
  "kernelspec": {
   "display_name": "Python 3",
   "language": "python",
   "name": "python3"
  },
  "language_info": {
   "codemirror_mode": {
    "name": "ipython",
    "version": 3
   },
   "file_extension": ".py",
   "mimetype": "text/x-python",
   "name": "python",
   "nbconvert_exporter": "python",
   "pygments_lexer": "ipython3",
   "version": "3.7.4"
  }
 },
 "nbformat": 4,
 "nbformat_minor": 2
}
